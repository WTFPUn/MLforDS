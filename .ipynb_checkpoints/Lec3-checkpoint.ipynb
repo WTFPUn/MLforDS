{
 "cells": [
  {
   "cell_type": "markdown",
   "metadata": {},
   "source": [
    "# 1\n",
    "Connected Components. Non-programming exercise. Label the following image with colors starting 1.\n",
    "a. 5 points. 0.5 hrs. Use 4 connected to label the background (white) regions. Show the equivalence\n",
    "table and the final color in each box."
   ]
  },
  {
   "cell_type": "markdown",
   "metadata": {},
   "source": [
    "## 1.1\n",
    "5 points. 0.5 hrs. Use 4 connected to label the background (white) regions. Show the equivalence\n",
    "table and the final color in each box."
   ]
  },
  {
   "cell_type": "markdown",
   "metadata": {},
   "source": [
    "- 4-connected background labeling\n",
    "<br>\n",
    "<img src=\"./Q3/2_1_a/4connnectback.jpg\"/>\n",
    "- 8-connected background labeling\n",
    "<br>\n",
    "<img src=\"./Q3/2_1_a/8connectback.jpg\"/>"
   ]
  },
  {
   "cell_type": "markdown",
   "metadata": {},
   "source": [
    "## 1.2\n",
    "5 points. 0.5 hrs. Use 8 connected to label foreground (black) regions. Show the equivalence table\n",
    "and the final color in each box.\n",
    "\n",
    "- 4-connected foreground labeling\n",
    "<br>\n",
    "<img src=\"./Q3/2_1_a/4connnectfore.jpg\"/>\n",
    "\n",
    "- 8-connected foreground labeling\n",
    "<br>\n",
    "\n",
    "<img src=\"./Q3/2_1_a/8connectfore.jpg\"/>"
   ]
  },
  {
   "cell_type": "markdown",
   "metadata": {},
   "source": [
    "# 2\n",
    "Handwritten Digit Recognition. Use the digits.png file as templates for digits 0, 1, …, 9. Write\n",
    " a python program to cut out each digit as a labeled dataset from 0..9, each of which is 20x20. Note: You\n",
    " may also use this exact same dataset with 100 samples of each digit 0..9 using 20 x 20 pixels from the\n",
    " internet along with libraries to read/load the dataset, if that’s easier for you.\n",
    " Load all the character data into a python class. Then rescale each character from 20 x 20 to 24 x 24 using\n",
    " OpenCV. Use 80% of the data as the training set, reserving 20% for testing.\n",
    " "
   ]
  },
  {
   "cell_type": "markdown",
   "metadata": {},
   "source": [
    "Load Image"
   ]
  },
  {
   "cell_type": "code",
   "execution_count": 42,
   "metadata": {},
   "outputs": [],
   "source": [
    "import cv2\n",
    "from typing import TypedDict, List, Tuple\n",
    "import numpy as np"
   ]
  },
  {
   "cell_type": "code",
   "execution_count": 43,
   "metadata": {},
   "outputs": [],
   "source": [
    "class Digits(TypedDict):\n",
    "    zero: List[np.ndarray]\n",
    "    one: List[np.ndarray]\n",
    "    two: List[np.ndarray]\n",
    "    three: List[np.ndarray]\n",
    "    four: List[np.ndarray]\n",
    "    five: List[np.ndarray]\n",
    "    six: List[np.ndarray]\n",
    "    seven: List[np.ndarray]\n",
    "    eight: List[np.ndarray]\n",
    "    nine: List[np.ndarray]\n"
   ]
  },
  {
   "cell_type": "code",
   "execution_count": 44,
   "metadata": {},
   "outputs": [],
   "source": [
    "digits: Digits = {\n",
    "    \"zero\": [],\n",
    "    \"one\": [],\n",
    "    \"two\": [],\n",
    "    \"three\": [],\n",
    "    \"four\": [],\n",
    "    \"five\": [],\n",
    "    \"six\": [],\n",
    "    \"seven\": [],\n",
    "    \"eight\": [],\n",
    "    \"nine\": []\n",
    "}"
   ]
  },
  {
   "cell_type": "code",
   "execution_count": 45,
   "metadata": {},
   "outputs": [],
   "source": [
    "# subplot to see the result\n",
    "import matplotlib.pyplot as plt\n",
    "def crop_image(image: np.ndarray, shape: Tuple[int, int], digits: Digits):\n",
    "  '''\n",
    "  to crop a whole digit image(20*20) from big image and rescale it to 24*24\n",
    "  '''\n",
    "  height, width = shape\n",
    "  print(image.shape)\n",
    "  uncropClass: Digits = {}\n",
    "  for i,key in enumerate(digits.keys()):\n",
    "    print(\"crop from\", 20*i*5 , \"to\", 20*(i+1)*5, \"for\", key)\n",
    "    uncropClass[key] = image[20*i*5:20*(i+1)*5, :]    \n",
    "    print(uncropClass[key].shape)\n",
    "\n",
    "  for key in uncropClass.keys():\n",
    "    class_crop = uncropClass[key]\n",
    "    for i in range(0, class_crop.shape[1], width):\n",
    "      for j in range(0, class_crop.shape[0], height):\n",
    "        crop = class_crop[j:j+height, i:i+width]\n",
    "        if crop.shape[0] == height and crop.shape[1] == width:\n",
    "          digits[key].append(cv2.resize(crop, (24, 24)))\n",
    "\n",
    "\n",
    "      "
   ]
  },
  {
   "cell_type": "code",
   "execution_count": 46,
   "metadata": {},
   "outputs": [
    {
     "name": "stdout",
     "output_type": "stream",
     "text": [
      "(1000, 2000, 3)\n",
      "(1000, 2000, 3)\n",
      "crop from 0 to 100 for zero\n",
      "(100, 2000, 3)\n",
      "crop from 100 to 200 for one\n",
      "(100, 2000, 3)\n",
      "crop from 200 to 300 for two\n",
      "(100, 2000, 3)\n",
      "crop from 300 to 400 for three\n",
      "(100, 2000, 3)\n",
      "crop from 400 to 500 for four\n",
      "(100, 2000, 3)\n",
      "crop from 500 to 600 for five\n",
      "(100, 2000, 3)\n",
      "crop from 600 to 700 for six\n",
      "(100, 2000, 3)\n",
      "crop from 700 to 800 for seven\n",
      "(100, 2000, 3)\n",
      "crop from 800 to 900 for eight\n",
      "(100, 2000, 3)\n",
      "crop from 900 to 1000 for nine\n",
      "(100, 2000, 3)\n"
     ]
    },
    {
     "data": {
      "text/plain": [
       "(24, 24, 3)"
      ]
     },
     "execution_count": 46,
     "metadata": {},
     "output_type": "execute_result"
    }
   ],
   "source": [
    "image = cv2.imread('./Q3/digits.png')\n",
    "print(image.shape)\n",
    "\n",
    "crop_image(image, (20, 20), digits)\n",
    "\n",
    "\n",
    "digits['eight'][0].shape"
   ]
  },
  {
   "cell_type": "code",
   "execution_count": 47,
   "metadata": {},
   "outputs": [
    {
     "data": {
      "text/plain": [
       "<matplotlib.image.AxesImage at 0x1ea9534a500>"
      ]
     },
     "execution_count": 47,
     "metadata": {},
     "output_type": "execute_result"
    },
    {
     "data": {
      "image/png": "[encoded data removed]",
      "text/plain": [
       "<Figure size 640x480 with 1 Axes>"
      ]
     },
     "metadata": {},
     "output_type": "display_data"
    }
   ],
   "source": [
    "\n",
    "plt.imshow(digits['three'][50], cmap='gray')"
   ]
  },
  {
   "cell_type": "code",
   "execution_count": 48,
   "metadata": {},
   "outputs": [
    {
     "data": {
      "text/plain": [
       "(24, 24, 3)"
      ]
     },
     "execution_count": 48,
     "metadata": {},
     "output_type": "execute_result"
    }
   ],
   "source": [
    "from sklearn.model_selection import train_test_split\n",
    "\n",
    "train_digits: Digits = {}\n",
    "test_digits: Digits = {}\n",
    "\n",
    "for key in digits.keys():\n",
    "  train_digits[key], test_digits[key] = train_test_split(digits[key], test_size=0.2, random_state=42)\n",
    "\n",
    "train_digits['eight'][0].shape"
   ]
  },
  {
   "cell_type": "markdown",
   "metadata": {},
   "source": [
    "# 2.1\n",
    "10+10+10+10 pts. 5 hrs. Then try recognition by using the test images and report the accuracy\n",
    " percent for these 4 (classifier, feature type) combinations: (KNN K = 5, gray scale features),\n",
    " (KNN K =5,HOGfeatures), (KNN K = 1, gray scale features), (KNN K = 1, HOG features). For\n",
    " HOG, use 20° histogram orientations of non-directional gradients (ie., 9 bins) with 16 x 16\n",
    " overlapping pixel windows for each 24 x 24 digit. Each digit will, thus, have 144 HOG features\n",
    " from 4 x 4 x 9, with 9 histogram values x 4 per 16 by 16 block x 4 such blocks per 24 x 24 image.\n"
   ]
  },
  {
   "cell_type": "code",
   "execution_count": 49,
   "metadata": {},
   "outputs": [],
   "source": [
    "from typing import Callable"
   ]
  },
  {
   "cell_type": "code",
   "execution_count": 50,
   "metadata": {},
   "outputs": [],
   "source": [
    "def preprocess_image(image: Digits, preprocess: Callable[[List[np.ndarray]], List[np.ndarray]]) -> Digits:\n",
    "  '''\n",
    "  to preprocess the image with a given function\n",
    "  '''\n",
    "  result: Digits = {}\n",
    "  for key in image.keys():\n",
    "    result[key] = preprocess(image[key])\n",
    "  return result"
   ]
  },
  {
   "cell_type": "markdown",
   "metadata": {},
   "source": [
    "1. KNN K = 5, gray scale features"
   ]
  },
  {
   "cell_type": "code",
   "execution_count": 51,
   "metadata": {},
   "outputs": [
    {
     "data": {
      "text/plain": [
       "<matplotlib.image.AxesImage at 0x1ea9e729000>"
      ]
     },
     "execution_count": 51,
     "metadata": {},
     "output_type": "execute_result"
    },
    {
     "data": {
      "image/png": "[encoded data removed]",
      "text/plain": [
       "<Figure size 640x480 with 1 Axes>"
      ]
     },
     "metadata": {},
     "output_type": "display_data"
    }
   ],
   "source": [
    "from PIL import Image\n",
    "\n",
    "def to_grayscale(images: List[np.ndarray]) -> List[np.ndarray]:\n",
    "  '''\n",
    "  to convert the image to grayscale\n",
    "  '''\n",
    "  return [Image.fromarray(image).convert('L') for image in images]\n",
    "\n",
    "grayscale_train_digits = preprocess_image(train_digits, to_grayscale)\n",
    "grayscale_test_digits = preprocess_image(test_digits, to_grayscale)\n",
    "\n",
    "plt.imshow(grayscale_train_digits['eight'][0], cmap='gray')"
   ]
  },
  {
   "cell_type": "code",
   "execution_count": 52,
   "metadata": {},
   "outputs": [],
   "source": [
    "from sklearn.neighbors import KNeighborsClassifier\n",
    "\n",
    "K = 5\n",
    "\n",
    "def flatten_images(images: List[np.ndarray]) -> List[np.ndarray]:\n",
    "  '''\n",
    "  to flatten the image\n",
    "  '''\n",
    "  return [np.array(image).flatten() for image in images]\n",
    "\n",
    "def train_knn_model(train_images: Digits, K: int) -> KNeighborsClassifier:\n",
    "  '''\n",
    "  to train the knn model\n",
    "  '''\n",
    "  train_images = preprocess_image(train_images, flatten_images)\n",
    "  X = []\n",
    "  y = []\n",
    "  for key in train_images.keys():\n",
    "    X += train_images[key]\n",
    "    y += [key] * len(train_images[key])\n",
    "  model = KNeighborsClassifier(n_neighbors=K)\n",
    "  model.fit(X, y)\n",
    "  return model\n",
    "\n",
    "model = train_knn_model(grayscale_train_digits, K)\n"
   ]
  },
  {
   "cell_type": "code",
   "execution_count": 53,
   "metadata": {},
   "outputs": [
    {
     "name": "stdout",
     "output_type": "stream",
     "text": [
      "zero 0.99\n",
      "one 0.99\n",
      "two 0.91\n",
      "three 0.89\n",
      "four 0.92\n",
      "five 0.97\n",
      "six 0.97\n",
      "seven 0.9\n",
      "eight 0.95\n",
      "nine 0.94\n"
     ]
    }
   ],
   "source": [
    "for cls in grayscale_test_digits.keys():\n",
    "  predicts = model.predict(flatten_images(grayscale_test_digits[cls]))\n",
    "  print(cls, np.mean(predicts == cls))\n",
    "  "
   ]
  },
  {
   "cell_type": "markdown",
   "metadata": {},
   "source": [
    "2. KNN K =5,HOGfeatures"
   ]
  },
  {
   "cell_type": "code",
   "execution_count": 54,
   "metadata": {},
   "outputs": [
    {
     "name": "stdout",
     "output_type": "stream",
     "text": [
      "zero 1.0\n",
      "one 0.99\n",
      "two 0.96\n",
      "three 0.97\n",
      "four 0.96\n",
      "five 0.94\n",
      "six 0.98\n",
      "seven 0.9\n",
      "eight 0.99\n",
      "nine 0.94\n"
     ]
    }
   ],
   "source": [
    "from cv2 import HOGDescriptor\n",
    "\n",
    "def HOG(images: List[np.ndarray]) -> List[np.ndarray]:\n",
    "  '''\n",
    "  to extract the HOG feature from the image\n",
    "  '''\n",
    "  winSize = (24,24) #same as the size of the image\n",
    "  blockSize = (16,16) #OpenCV only supports 16 x 16 block sizes\n",
    "  blockStride = (8,8) #multiple of cell size. Here it is multiple of 1.\n",
    "  cellSize = (8,8) #OpenCV only supports 8x8 cell size. That means each Block will have 4 histograms\n",
    "  nbins = 9 #OpenCV only supports 9 orientations per cell.  That means 1 block has 4 x 9 = 36 features\n",
    "  derivAperture = 1\n",
    "  winSigma = 4.\n",
    "  histogramNormType = 0\n",
    "  L2HysThreshold = 2.0000000000000001e-01\n",
    "  gammaCorrection = 0\n",
    "  hog = cv2.HOGDescriptor(winSize,blockSize,blockStride,cellSize,nbins,derivAperture,winSigma,\n",
    "                          histogramNormType,L2HysThreshold,gammaCorrection)\n",
    "  \n",
    "  result = []\n",
    "  for image in images:\n",
    "    result.append(hog.compute(np.array(image)))\n",
    "\n",
    "  return result\n",
    "\n",
    "\n",
    "def train_knn_model_HOG(train_images: Digits, K: int) -> KNeighborsClassifier:\n",
    "  '''\n",
    "  to train the knn model with HOG feature\n",
    "  '''\n",
    "  train_images = preprocess_image(train_images, HOG)\n",
    "  X = []\n",
    "  y = []\n",
    "  for key in train_images.keys():\n",
    "    X += train_images[key]\n",
    "    y += [key] * len(train_images[key])\n",
    "  model = KNeighborsClassifier(n_neighbors=K)\n",
    "  model.fit(X, y)\n",
    "  return model\n",
    "\n",
    "model_HOG = train_knn_model_HOG(grayscale_train_digits, K)\n",
    "\n",
    "for cls in grayscale_test_digits.keys():\n",
    "  predicts = model_HOG.predict(HOG(grayscale_test_digits[cls]))\n",
    "  print(cls, np.mean(predicts == cls))"
   ]
  },
  {
   "cell_type": "markdown",
   "metadata": {},
   "source": [
    "3. KNN K = 1, gray scale features"
   ]
  },
  {
   "cell_type": "code",
   "execution_count": 55,
   "metadata": {},
   "outputs": [
    {
     "name": "stdout",
     "output_type": "stream",
     "text": [
      "zero 0.99\n",
      "one 0.99\n",
      "two 0.95\n",
      "three 0.88\n",
      "four 0.94\n",
      "five 0.94\n",
      "six 0.98\n",
      "seven 0.92\n",
      "eight 0.95\n",
      "nine 0.95\n"
     ]
    }
   ],
   "source": [
    "K = 1\n",
    "\n",
    "grayscale_train_digits = preprocess_image(train_digits, to_grayscale)\n",
    "grayscale_test_digits = preprocess_image(test_digits, to_grayscale)\n",
    "\n",
    "model_gray = train_knn_model(grayscale_train_digits, K)\n",
    "\n",
    "for cls in grayscale_test_digits.keys():\n",
    "  predicts = model_gray.predict(flatten_images(grayscale_test_digits[cls]))\n",
    "  print(cls, np.mean(predicts == cls))"
   ]
  },
  {
   "cell_type": "markdown",
   "metadata": {},
   "source": [
    "4. KNN K = 1, HOG features with use 20° histogram orientations of non-directional gradients (ie., 9 bins) with 16 x 16\n",
    "overlapping pixel windows for each 24 x 24 digit. Each digit will, thus, have 144 HOG features\n",
    "from 4 x 4 x 9, with 9 histogram values x 4 per 16 by 16 block x 4 such blocks per 24 x 24 image."
   ]
  },
  {
   "cell_type": "code",
   "execution_count": 56,
   "metadata": {},
   "outputs": [
    {
     "name": "stdout",
     "output_type": "stream",
     "text": [
      "zero 0.99\n",
      "one 0.97\n",
      "two 0.98\n",
      "three 0.98\n",
      "four 0.96\n",
      "five 0.93\n",
      "six 0.97\n",
      "seven 0.95\n",
      "eight 0.97\n",
      "nine 0.95\n"
     ]
    }
   ],
   "source": [
    "def mod_HOG(images: List[np.ndarray]) -> List[np.ndarray]:\n",
    "  '''\n",
    "  to extract the HOG feature from the image\n",
    "  '''\n",
    "  winSize = (24,24)\n",
    "  blockSize = (16,16)\n",
    "  blockStride = (8,8)  # Overlapping of 50%\n",
    "  cellSize = (8,8)\n",
    "  nbins = 9  # Number of orientation bins\n",
    "  hog = cv2.HOGDescriptor(winSize, blockSize, blockStride, cellSize, nbins)\n",
    "  hog_descriptors = []\n",
    "  for image in images:\n",
    "      # Ensure the image is a numpy array\n",
    "      if not isinstance(image, np.ndarray):\n",
    "          image = np.array(image)\n",
    "      # Ensure the image is grayscale\n",
    "      if len(image.shape) > 2:\n",
    "          image = cv2.cvtColor(image, cv2.COLOR_BGR2GRAY)\n",
    "      hog_descriptor = hog.compute(image)\n",
    "      hog_descriptors.append(hog_descriptor)\n",
    "  return hog_descriptors\n",
    "\n",
    "\n",
    "model_HOG = train_knn_model_HOG(grayscale_train_digits, K)\n",
    "\n",
    "for cls in grayscale_test_digits.keys():\n",
    "    predicts = model_HOG.predict(mod_HOG(grayscale_test_digits[cls]))\n",
    "    print(cls, np.mean(predicts == cls))"
   ]
  },
  {
   "cell_type": "markdown",
   "metadata": {},
   "source": [
    "## 2.2\n",
    "Use KNN K = 1 with HOG features to report:\n",
    "1. 5 pts. 1.0 hrs. Result for 2 test images per digit 0..9 cropped out from digits.png but not\n",
    "aligned at the original 20 x 20 image, so you may have smaller or bigger input image sizes.\n",
    "You must rescale each test image to 24 x 24 because HOG requires this scaling."
   ]
  },
  {
   "cell_type": "markdown",
   "metadata": {},
   "source": [
    "the image from 0-9\n",
    "<br>\n",
    "<img src=\"./Q3/Q2_2_a_datadir.png\"/>"
   ]
  },
  {
   "cell_type": "code",
   "execution_count": 57,
   "metadata": {},
   "outputs": [
    {
     "name": "stdout",
     "output_type": "stream",
     "text": [
      "from image of  0 got:  ['zero']\n",
      "from image of  0 got:  ['zero']\n",
      "from image of  1 got:  ['one']\n",
      "from image of  1 got:  ['four']\n",
      "from image of  2 got:  ['two']\n",
      "from image of  2 got:  ['two']\n",
      "from image of  3 got:  ['three']\n",
      "from image of  3 got:  ['three']\n",
      "from image of  4 got:  ['four']\n",
      "from image of  4 got:  ['four']\n",
      "from image of  5 got:  ['five']\n",
      "from image of  5 got:  ['five']\n",
      "from image of  6 got:  ['six']\n",
      "from image of  6 got:  ['five']\n",
      "from image of  7 got:  ['seven']\n",
      "from image of  7 got:  ['one']\n",
      "from image of  8 got:  ['eight']\n",
      "from image of  8 got:  ['eight']\n",
      "from image of  9 got:  ['three']\n",
      "from image of  9 got:  ['nine']\n"
     ]
    }
   ],
   "source": [
    "import os\n",
    "for imagename in os.listdir('./Q3/2_2_a/'):\n",
    "  image = cv2.imread('./Q3/2_2_a/' + imagename)\n",
    "  # rescue the image to 24*24\n",
    "  resized_image = cv2.resize(image, (24, 24))\n",
    "  # use the model to predict the image\n",
    "  print(\"from image of \",imagename.split(\"_\")[0], \"got: \", model_HOG.predict(mod_HOG([resized_image])))"
   ]
  },
  {
   "cell_type": "markdown",
   "metadata": {},
   "source": [
    "2. 5 pts. 1.0 hrs. Result for 2 test images per digit 0..9 you create in a Paint program to see if\n",
    "you can find your character. Each test image should be big to start with such as 50x50, but\n",
    "you should rescale it to 24 x 24 before testing."
   ]
  },
  {
   "cell_type": "markdown",
   "metadata": {},
   "source": [
    "I found the code that can [write image with tkinter](https://stackoverflow.com/questions/55575685/jupyter-notebook-let-a-user-inputs-a-drawing) and I need to implement it to use only image and not save to disk."
   ]
  },
  {
   "cell_type": "code",
   "execution_count": 58,
   "metadata": {},
   "outputs": [],
   "source": [
    "from PIL import ImageTk, Image, ImageDraw\n",
    "import PIL\n",
    "from tkinter import *\n",
    "import numpy as np\n",
    "\n",
    "width = 200  # canvas width\n",
    "height = 200 # canvas height\n",
    "center = height//2\n",
    "black = (255, 255, 255) # canvas back\n",
    "\n",
    "# Create a dictionary to store the images for each digit\n",
    "digit_images = {i: [] for i in range(10)}\n",
    "\n",
    "# Create two empty PIL images and draw objects to draw on\n",
    "output_image1 = PIL.Image.new(\"RGB\", (width, height), black)\n",
    "draw1 = ImageDraw.Draw(output_image1)\n",
    "output_image2 = PIL.Image.new(\"RGB\", (width, height), black)\n",
    "draw2 = ImageDraw.Draw(output_image2)\n",
    "\n",
    "def save():\n",
    "    global output_image1, output_image2, draw1, draw2\n",
    "    # Save the images and add them to the dictionary\n",
    "    for i, output_image in enumerate([output_image1, output_image2]):\n",
    "        resized_image = output_image.resize((24, 24))\n",
    "        \n",
    "        resized_image = cv2.bitwise_not(np.array(resized_image))\n",
    "\n",
    "        digit_images[digit.get()].append(resized_image)\n",
    "    # Clear the canvases\n",
    "    canvas1.delete(\"all\")\n",
    "    canvas2.delete(\"all\")\n",
    "    # Clear the output images\n",
    "    output_image1 = PIL.Image.new(\"RGB\", (width, height), black)\n",
    "    draw1 = ImageDraw.Draw(output_image1)\n",
    "    output_image2 = PIL.Image.new(\"RGB\", (width, height), black)\n",
    "    draw2 = ImageDraw.Draw(output_image2)\n",
    "\n",
    "def paint(event, draw):\n",
    "    x1, y1 = (event.x - 1), (event.y - 1)\n",
    "    x2, y2 = (event.x + 1), (event.y + 1)\n",
    "    event.widget.create_oval(x1, y1, x2, y2, fill=\"black\",width=25)\n",
    "    draw.line([x1, y1, x2, y2],fill=\"black\",width=20)\n",
    "\n",
    "master = Tk()\n",
    "\n",
    "# Create a dropdown menu to select the digit\n",
    "digit = IntVar(master)\n",
    "digit.set(0) # default value\n",
    "digit_menu = OptionMenu(master, digit, *range(10))\n",
    "digit_menu.pack()\n",
    "\n",
    "# Create two tkinter canvases to draw on\n",
    "canvas1 = Canvas(master, width=width, height=height, bg='white')\n",
    "canvas1.pack()\n",
    "canvas2 = Canvas(master, width=width, height=height, bg='white')\n",
    "canvas2.pack()\n",
    "\n",
    "\n",
    "\n",
    "canvas1.bind(\"<B1-Motion>\", lambda event: paint(event, draw1))\n",
    "canvas2.bind(\"<B1-Motion>\", lambda event: paint(event, draw2))\n",
    "\n",
    "# Add a button to save the images\n",
    "button=Button(text=\"save\",command=save)\n",
    "button.pack()\n",
    "\n",
    "master.mainloop()"
   ]
  },
  {
   "cell_type": "code",
   "execution_count": 59,
   "metadata": {},
   "outputs": [
    {
     "name": "stdout",
     "output_type": "stream",
     "text": [
      "Digit 0 has 2 images\n",
      "Digit 1 has 2 images\n",
      "Digit 2 has 2 images\n",
      "Digit 3 has 2 images\n",
      "Digit 4 has 2 images\n",
      "Digit 5 has 2 images\n",
      "Digit 6 has 2 images\n",
      "Digit 7 has 2 images\n",
      "Digit 8 has 2 images\n",
      "Digit 9 has 2 images\n"
     ]
    }
   ],
   "source": [
    "for i in range(10):\n",
    "  print(f\"Digit {i} has {len(digit_images[i])} images\")"
   ]
  },
  {
   "cell_type": "code",
   "execution_count": 60,
   "metadata": {},
   "outputs": [
    {
     "data": {
      "text/plain": [
       "<matplotlib.image.AxesImage at 0x1ea9660b130>"
      ]
     },
     "execution_count": 60,
     "metadata": {},
     "output_type": "execute_result"
    },
    {
     "data": {
      "image/png": "[encoded data removed]",
      "text/plain": [
       "<Figure size 640x480 with 1 Axes>"
      ]
     },
     "metadata": {},
     "output_type": "display_data"
    }
   ],
   "source": [
    "plt.imshow(digit_images[1][0], cmap='gray')"
   ]
  },
  {
   "cell_type": "code",
   "execution_count": 61,
   "metadata": {},
   "outputs": [
    {
     "name": "stdout",
     "output_type": "stream",
     "text": [
      "from image of  0 got:  ['six']\n",
      "from image of  0 got:  ['zero']\n",
      "from image of  1 got:  ['one']\n",
      "from image of  1 got:  ['one']\n",
      "from image of  2 got:  ['two']\n",
      "from image of  2 got:  ['two']\n",
      "from image of  3 got:  ['seven']\n",
      "from image of  3 got:  ['three']\n",
      "from image of  4 got:  ['four']\n",
      "from image of  4 got:  ['four']\n",
      "from image of  5 got:  ['five']\n",
      "from image of  5 got:  ['five']\n",
      "from image of  6 got:  ['six']\n",
      "from image of  6 got:  ['six']\n",
      "from image of  7 got:  ['seven']\n",
      "from image of  7 got:  ['seven']\n",
      "from image of  8 got:  ['three']\n",
      "from image of  8 got:  ['three']\n",
      "from image of  9 got:  ['nine']\n",
      "from image of  9 got:  ['nine']\n"
     ]
    }
   ],
   "source": [
    "for i in digit_images.keys():\n",
    "  for j in range(len(digit_images[i])):\n",
    "    print(\"from image of \",i, \"got: \", model_HOG.predict(mod_HOG([digit_images[i][j]])))"
   ]
  },
  {
   "cell_type": "markdown",
   "metadata": {},
   "source": [
    "3. 5 pts. 1.0 hrs. Result for 4 test images of digit 5 you create in Paint with white background."
   ]
  },
  {
   "cell_type": "code",
   "execution_count": 62,
   "metadata": {},
   "outputs": [],
   "source": [
    "from PIL import ImageTk, Image, ImageDraw\n",
    "import PIL\n",
    "from tkinter import *\n",
    "import numpy as np\n",
    "\n",
    "width = 200  # canvas width\n",
    "height = 200 # canvas height\n",
    "center = height//2\n",
    "white = (255, 255, 255) # canvas back\n",
    "\n",
    "# Create a dictionary to store the images for each digit\n",
    "digit_images = {i: [] for i in range(10)}\n",
    "\n",
    "# Create two empty PIL images and draw objects to draw on\n",
    "output_image1 = PIL.Image.new(\"RGB\", (width, height), white)\n",
    "draw1 = ImageDraw.Draw(output_image1)\n",
    "output_image2 = PIL.Image.new(\"RGB\", (width, height), white)\n",
    "draw2 = ImageDraw.Draw(output_image2)\n",
    "\n",
    "def save():\n",
    "    global output_image1, output_image2, draw1, draw2\n",
    "    # Save the images and add them to the dictionary\n",
    "    for i, output_image in enumerate([output_image1, output_image2]):\n",
    "        resized_image = output_image.resize((24, 24))\n",
    "        digit_images[digit.get()].append(np.array(resized_image))\n",
    "        output_image.save(f\"digit_{digit.get()}_{i}.png\")\n",
    "    # Clear the canvases\n",
    "    canvas1.delete(\"all\")\n",
    "    canvas2.delete(\"all\")\n",
    "    # Clear the output images\n",
    "    output_image1 = PIL.Image.new(\"RGB\", (width, height), black)\n",
    "    draw1 = ImageDraw.Draw(output_image1)\n",
    "    output_image2 = PIL.Image.new(\"RGB\", (width, height), black)\n",
    "    draw2 = ImageDraw.Draw(output_image2)\n",
    "    \n",
    "\n",
    "def paint(event, draw):\n",
    "    x1, y1 = (event.x - 1), (event.y - 1)\n",
    "    x2, y2 = (event.x + 1), (event.y + 1)\n",
    "    event.widget.create_oval(x1, y1, x2, y2, fill=\"black\",width=25)\n",
    "    draw.line([x1, y1, x2, y2],fill=\"black\",width=25)\n",
    "\n",
    "master = Tk()\n",
    "\n",
    "# Create a dropdown menu to select the digit\n",
    "digit = IntVar(master)\n",
    "digit.set(0) # default value\n",
    "digit_menu = OptionMenu(master, digit, *range(10))\n",
    "digit_menu.pack()\n",
    "\n",
    "# Create two tkinter canvases to draw on\n",
    "canvas1 = Canvas(master, width=width, height=height, bg='white')\n",
    "canvas1.pack()\n",
    "canvas2 = Canvas(master, width=width, height=height, bg='white')\n",
    "canvas2.pack()\n",
    "\n",
    "\n",
    "\n",
    "canvas1.bind(\"<B1-Motion>\", lambda event: paint(event, draw1))\n",
    "canvas2.bind(\"<B1-Motion>\", lambda event: paint(event, draw2))\n",
    "\n",
    "# Add a button to save the images\n",
    "button=Button(text=\"save\",command=save)\n",
    "button.pack()\n",
    "\n",
    "master.mainloop()"
   ]
  },
  {
   "cell_type": "code",
   "execution_count": 63,
   "metadata": {},
   "outputs": [
    {
     "data": {
      "text/plain": [
       "<matplotlib.image.AxesImage at 0x1ea96581300>"
      ]
     },
     "execution_count": 63,
     "metadata": {},
     "output_type": "execute_result"
    },
    {
     "data": {
      "image/png": "[encoded data removed]",
      "text/plain": [
       "<Figure size 640x480 with 1 Axes>"
      ]
     },
     "metadata": {},
     "output_type": "display_data"
    }
   ],
   "source": [
    "plt.imshow(digit_images[8][0], cmap='gray')"
   ]
  },
  {
   "cell_type": "code",
   "execution_count": 64,
   "metadata": {},
   "outputs": [
    {
     "name": "stdout",
     "output_type": "stream",
     "text": [
      "from image of  0 got:  ['nine']\n",
      "from image of  0 got:  ['zero']\n",
      "from image of  1 got:  ['one']\n",
      "from image of  1 got:  ['one']\n",
      "from image of  2 got:  ['two']\n",
      "from image of  2 got:  ['two']\n",
      "from image of  3 got:  ['three']\n",
      "from image of  3 got:  ['three']\n",
      "from image of  4 got:  ['four']\n",
      "from image of  4 got:  ['four']\n",
      "from image of  5 got:  ['five']\n",
      "from image of  5 got:  ['five']\n",
      "from image of  6 got:  ['six']\n",
      "from image of  6 got:  ['six']\n",
      "from image of  6 got:  ['two']\n",
      "from image of  6 got:  ['seven']\n",
      "from image of  6 got:  ['six']\n",
      "from image of  6 got:  ['six']\n",
      "from image of  7 got:  ['seven']\n",
      "from image of  7 got:  ['seven']\n",
      "from image of  8 got:  ['eight']\n",
      "from image of  8 got:  ['eight']\n",
      "from image of  9 got:  ['four']\n",
      "from image of  9 got:  ['nine']\n"
     ]
    }
   ],
   "source": [
    "for i in digit_images.keys():\n",
    "  for j in range(len(digit_images[i])):\n",
    "    print(\"from image of \",i, \"got: \", model_HOG.predict(mod_HOG([digit_images[i][j]])))"
   ]
  },
  {
   "cell_type": "markdown",
   "metadata": {},
   "source": [
    "## 2.3 \n",
    "20 pts. 2 hrs. For each 0..9 digit in your dataset of 100 characters, use OpenCV’s auto threshold\n",
    "(Otsu’s algorithm) and then the connected components to find the bounding box. Use that\n",
    "bounding box to cut out each original gray-scale image (not the thresholded image) and resize\n",
    "each back to 24 x 24. This will be your new dataset (training and testing, combined). Report the\n",
    "accuracy percent for KNN K = 1 using HOG features. Is the result here better than in problem 2a\n",
    "for KNN = 1 using HOG features?"
   ]
  },
  {
   "cell_type": "code",
   "execution_count": 65,
   "metadata": {},
   "outputs": [
    {
     "name": "stdout",
     "output_type": "stream",
     "text": [
      "(1000, 2000, 3)\n"
     ]
    }
   ],
   "source": [
    "import cv2\n",
    "import numpy as np\n",
    "from sklearn.neighbors import KNeighborsClassifier\n",
    "from sklearn.model_selection import train_test_split\n",
    "from sklearn.metrics import accuracy_score\n",
    "\n",
    "# Assuming images is a list of your grayscale images\n",
    "hog_features = []\n",
    "image = cv2.imread('./Q3/digits.png')\n",
    "print(image.shape)\n",
    "uncropClass: Digits = {}\n",
    "for i,key in enumerate(digits.keys()):\n",
    "    uncropClass[key] = image[20*i*5:20*(i+1)*5, :]\n",
    "    # to grayscale\n",
    "    uncropClass[key] = cv2.cvtColor(uncropClass[key], cv2.COLOR_BGR2GRAY)\n",
    "\n"
   ]
  },
  {
   "cell_type": "code",
   "execution_count": 66,
   "metadata": {},
   "outputs": [
    {
     "data": {
      "text/plain": [
       "(100, 2000)"
      ]
     },
     "execution_count": 66,
     "metadata": {},
     "output_type": "execute_result"
    }
   ],
   "source": [
    "uncropClass['zero'].shape"
   ]
  },
  {
   "cell_type": "code",
   "execution_count": 67,
   "metadata": {},
   "outputs": [
    {
     "name": "stdout",
     "output_type": "stream",
     "text": [
      "Digit zero has 505 connected components\n",
      "Digit one has 506 connected components\n",
      "Digit two has 509 connected components\n",
      "Digit three has 517 connected components\n",
      "Digit four has 505 connected components\n",
      "Digit five has 528 connected components\n",
      "Digit six has 505 connected components\n",
      "Digit seven has 509 connected components\n",
      "Digit eight has 507 connected components\n",
      "Digit nine has 515 connected components\n",
      "Digit zero has 504 images\n",
      "Digit one has 505 images\n",
      "Digit two has 508 images\n",
      "Digit three has 516 images\n",
      "Digit four has 504 images\n",
      "Digit five has 527 images\n",
      "Digit six has 504 images\n",
      "Digit seven has 508 images\n",
      "Digit eight has 506 images\n",
      "Digit nine has 514 images\n"
     ]
    }
   ],
   "source": [
    "import cv2\n",
    "import numpy as np\n",
    "from sklearn.neighbors import KNeighborsClassifier\n",
    "from sklearn.model_selection import train_test_split\n",
    "from sklearn.metrics import accuracy_score\n",
    "\n",
    "\n",
    "cropClass: Digits = {\n",
    "    \"zero\": [], \n",
    "    \"one\": [],\n",
    "    \"two\": [],\n",
    "    \"three\": [],\n",
    "    \"four\": [],\n",
    "    \"five\": [],\n",
    "    \"six\": [],\n",
    "    \"seven\": [],\n",
    "    \"eight\": [],\n",
    "    \"nine\": []\n",
    "}\n",
    "\n",
    "\n",
    "for digit, images in uncropClass.items():\n",
    "    # use Otsu's thresholding\n",
    "    _, thresh = cv2.threshold(images, 0, 255, cv2.THRESH_BINARY + cv2.THRESH_OTSU)\n",
    "    # use connected component analysis to find the bounding box\n",
    "    num_labels, labels, stats, centroids = cv2.connectedComponentsWithStats(thresh, connectivity=8)\n",
    "    print(f\"Digit {digit} has {num_labels} connected components\") \n",
    "    for stat in stats[1:]:\n",
    "        x, y, w, h, area = stat\n",
    "        crop = images[y:y+h, x:x+w]\n",
    "        cropClass[digit].append(cv2.resize(crop, (24, 24)))\n",
    "\n",
    "\n",
    "\n",
    "\n",
    "for i in cropClass.keys():\n",
    "  print(f\"Digit {i} has {len(cropClass[i])} images\")\n"
   ]
  },
  {
   "cell_type": "code",
   "execution_count": 68,
   "metadata": {},
   "outputs": [
    {
     "name": "stdout",
     "output_type": "stream",
     "text": [
      "zero 0.9702970297029703\n",
      "one 0.8712871287128713\n",
      "two 0.9215686274509803\n",
      "three 0.9134615384615384\n",
      "four 0.8118811881188119\n",
      "five 0.8679245283018868\n",
      "six 0.9801980198019802\n",
      "seven 0.9313725490196079\n",
      "eight 0.9509803921568627\n",
      "nine 0.9029126213592233\n"
     ]
    }
   ],
   "source": [
    "# HOG\n",
    "def HOG(images: List[np.ndarray]) -> List[np.ndarray]:\n",
    "  '''\n",
    "  to extract the HOG feature from the image\n",
    "  '''\n",
    "  winSize = (24,24)\n",
    "  blockSize = (16,16)\n",
    "  blockStride = (8,8)  # Overlapping of 50%\n",
    "  cellSize = (8,8)\n",
    "  nbins = 9  # Number of orientation bins\n",
    "  hog = cv2.HOGDescriptor(winSize, blockSize, blockStride, cellSize, nbins)\n",
    "  hog_descriptors = []\n",
    "  for image in images:\n",
    "      # Ensure the image is a numpy array\n",
    "      if not isinstance(image, np.ndarray):\n",
    "          image = np.array(image)\n",
    "      # Ensure the image is grayscale\n",
    "      if len(image.shape) > 2:\n",
    "          image = cv2.cvtColor(image, cv2.COLOR_BGR2GRAY)\n",
    "      hog_descriptor = hog.compute(image)\n",
    "      hog_descriptors.append(hog_descriptor)\n",
    "  return hog_descriptors\n",
    "\n",
    "train_digits: Digits = {}\n",
    "test_digits: Digits = {}\n",
    "\n",
    "for key in cropClass.keys():\n",
    "  train_digits[key], test_digits[key] = train_test_split(cropClass[key], test_size=0.2, random_state=42)\n",
    "\n",
    "\n",
    "K = 1\n",
    "model_HOG = train_knn_model_HOG(train_digits, K)\n",
    "\n",
    "for cls in test_digits.keys():\n",
    "    predicts = model_HOG.predict(mod_HOG(test_digits[cls]))\n",
    "    print(cls, np.mean(predicts == cls))"
   ]
  },
  {
   "cell_type": "markdown",
   "metadata": {},
   "source": [
    "with Otsu’s algorithm and then the connected components to find the bounding box. I might not better than the previous one."
   ]
  },
  {
   "cell_type": "code",
   "execution_count": null,
   "metadata": {},
   "outputs": [],
   "source": []
  }
 ],
 "metadata": {
  "kernelspec": {
   "display_name": "Python 3 (ipykernel)",
   "language": "python",
   "name": "python3"
  },
  "language_info": {
   "codemirror_mode": {
    "name": "ipython",
    "version": 3
   },
   "file_extension": ".py",
   "mimetype": "text/x-python",
   "name": "python",
   "nbconvert_exporter": "python",
   "pygments_lexer": "ipython3",
   "version": "3.9.12"
  }
 },
 "nbformat": 4,
 "nbformat_minor": 2
}
