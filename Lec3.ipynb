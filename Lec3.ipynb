{
 "cells": [
  {
   "cell_type": "markdown",
   "metadata": {},
   "source": [
    "# 2\n",
    "Handwritten Digit Recognition. Use the digits.png file as templates for digits 0, 1, …, 9. Write\n",
    " a python program to cut out each digit as a labeled dataset from 0..9, each of which is 20x20. Note: You\n",
    " may also use this exact same dataset with 100 samples of each digit 0..9 using 20 x 20 pixels from the\n",
    " internet along with libraries to read/load the dataset, if that’s easier for you.\n",
    " Load all the character data into a python class. Then rescale each character from 20 x 20 to 24 x 24 using\n",
    " OpenCV. Use 80% of the data as the training set, reserving 20% for testing.\n",
    " "
   ]
  },
  {
   "cell_type": "markdown",
   "metadata": {},
   "source": [
    "Load Image"
   ]
  },
  {
   "cell_type": "code",
   "execution_count": 1,
   "metadata": {},
   "outputs": [],
   "source": [
    "import cv2\n",
    "from typing import TypedDict, List, Tuple\n",
    "import numpy as np"
   ]
  },
  {
   "cell_type": "code",
   "execution_count": 2,
   "metadata": {},
   "outputs": [],
   "source": [
    "class Digits(TypedDict):\n",
    "    zero: List[np.ndarray]\n",
    "    one: List[np.ndarray]\n",
    "    two: List[np.ndarray]\n",
    "    three: List[np.ndarray]\n",
    "    four: List[np.ndarray]\n",
    "    five: List[np.ndarray]\n",
    "    six: List[np.ndarray]\n",
    "    seven: List[np.ndarray]\n",
    "    eight: List[np.ndarray]\n",
    "    nine: List[np.ndarray]\n"
   ]
  },
  {
   "cell_type": "code",
   "execution_count": 3,
   "metadata": {},
   "outputs": [],
   "source": [
    "digits: Digits = {\n",
    "    \"zero\": [],\n",
    "    \"one\": [],\n",
    "    \"two\": [],\n",
    "    \"three\": [],\n",
    "    \"four\": [],\n",
    "    \"five\": [],\n",
    "    \"six\": [],\n",
    "    \"seven\": [],\n",
    "    \"eight\": [],\n",
    "    \"nine\": []\n",
    "}"
   ]
  },
  {
   "cell_type": "code",
   "execution_count": 4,
   "metadata": {},
   "outputs": [],
   "source": [
    "# subplot to see the result\n",
    "import matplotlib.pyplot as plt\n",
    "def crop_image(image: np.ndarray, shape: Tuple[int, int], digits: Digits):\n",
    "  '''\n",
    "  to crop a whole digit image(20*20) from big image and rescale it to 24*24\n",
    "  '''\n",
    "  height, width = shape\n",
    "  print(image.shape)\n",
    "  uncropClass: Digits = {}\n",
    "  for i,key in enumerate(digits.keys()):\n",
    "    print(\"crop from\", 20*i*5 , \"to\", 20*(i+1)*5, \"for\", key)\n",
    "    uncropClass[key] = image[20*i*5:20*(i+1)*5, :]    \n",
    "    print(uncropClass[key].shape)\n",
    "\n",
    "  for key in uncropClass.keys():\n",
    "    class_crop = uncropClass[key]\n",
    "    for i in range(0, class_crop.shape[1], width):\n",
    "      for j in range(0, class_crop.shape[0], height):\n",
    "        crop = class_crop[j:j+height, i:i+width]\n",
    "        if crop.shape[0] == height and crop.shape[1] == width:\n",
    "          digits[key].append(cv2.resize(crop, (24, 24)))\n",
    "\n",
    "\n",
    "      "
   ]
  },
  {
   "cell_type": "code",
   "execution_count": 5,
   "metadata": {},
   "outputs": [
    {
     "name": "stdout",
     "output_type": "stream",
     "text": [
      "(1000, 2000, 3)\n",
      "(1000, 2000, 3)\n",
      "crop from 0 to 100 for zero\n",
      "(100, 2000, 3)\n",
      "crop from 100 to 200 for one\n",
      "(100, 2000, 3)\n",
      "crop from 200 to 300 for two\n",
      "(100, 2000, 3)\n",
      "crop from 300 to 400 for three\n",
      "(100, 2000, 3)\n",
      "crop from 400 to 500 for four\n",
      "(100, 2000, 3)\n",
      "crop from 500 to 600 for five\n",
      "(100, 2000, 3)\n",
      "crop from 600 to 700 for six\n",
      "(100, 2000, 3)\n",
      "crop from 700 to 800 for seven\n",
      "(100, 2000, 3)\n",
      "crop from 800 to 900 for eight\n",
      "(100, 2000, 3)\n",
      "crop from 900 to 1000 for nine\n",
      "(100, 2000, 3)\n"
     ]
    },
    {
     "data": {
      "text/plain": [
       "(24, 24, 3)"
      ]
     },
     "execution_count": 5,
     "metadata": {},
     "output_type": "execute_result"
    }
   ],
   "source": [
    "image = cv2.imread('./Q3/digits.png')\n",
    "print(image.shape)\n",
    "\n",
    "crop_image(image, (20, 20), digits)\n",
    "\n",
    "\n",
    "digits['eight'][0].shape"
   ]
  },
  {
   "cell_type": "code",
   "execution_count": 6,
   "metadata": {},
   "outputs": [
    {
     "data": {
      "text/plain": [
       "<matplotlib.image.AxesImage at 0x13e1c77bf10>"
      ]
     },
     "execution_count": 6,
     "metadata": {},
     "output_type": "execute_result"
    },
    {
     "data": {
      "image/png": "[encoded data removed]",
      "text/plain": [
       "<Figure size 640x480 with 1 Axes>"
      ]
     },
     "metadata": {},
     "output_type": "display_data"
    }
   ],
   "source": [
    "\n",
    "plt.imshow(digits['three'][50], cmap='gray')"
   ]
  },
  {
   "cell_type": "code",
   "execution_count": 7,
   "metadata": {},
   "outputs": [
    {
     "data": {
      "text/plain": [
       "(24, 24, 3)"
      ]
     },
     "execution_count": 7,
     "metadata": {},
     "output_type": "execute_result"
    }
   ],
   "source": [
    "from sklearn.model_selection import train_test_split\n",
    "\n",
    "train_digits: Digits = {}\n",
    "test_digits: Digits = {}\n",
    "\n",
    "for key in digits.keys():\n",
    "  train_digits[key], test_digits[key] = train_test_split(digits[key], test_size=0.2, random_state=42)\n",
    "\n",
    "train_digits['eight'][0].shape"
   ]
  },
  {
   "cell_type": "markdown",
   "metadata": {},
   "source": [
    "# 2.1\n",
    "10+10+10+10 pts. 5 hrs. Then try recognition by using the test images and report the accuracy\n",
    " percent for these 4 (classifier, feature type) combinations: (KNN K = 5, gray scale features),\n",
    " (KNN K =5,HOGfeatures), (KNN K = 1, gray scale features), (KNN K = 1, HOG features). For\n",
    " HOG, use 20° histogram orientations of non-directional gradients (ie., 9 bins) with 16 x 16\n",
    " overlapping pixel windows for each 24 x 24 digit. Each digit will, thus, have 144 HOG features\n",
    " from 4 x 4 x 9, with 9 histogram values x 4 per 16 by 16 block x 4 such blocks per 24 x 24 image.\n"
   ]
  },
  {
   "cell_type": "code",
   "execution_count": 8,
   "metadata": {},
   "outputs": [],
   "source": [
    "from typing import Callable"
   ]
  },
  {
   "cell_type": "code",
   "execution_count": 9,
   "metadata": {},
   "outputs": [],
   "source": [
    "def preprocess_image(image: Digits, preprocess: Callable[[List[np.ndarray]], List[np.ndarray]]) -> Digits:\n",
    "  '''\n",
    "  to preprocess the image with a given function\n",
    "  '''\n",
    "  result: Digits = {}\n",
    "  for key in image.keys():\n",
    "    result[key] = preprocess(image[key])\n",
    "  return result"
   ]
  },
  {
   "cell_type": "markdown",
   "metadata": {},
   "source": [
    "1. KNN K = 5, gray scale features"
   ]
  },
  {
   "cell_type": "code",
   "execution_count": 10,
   "metadata": {},
   "outputs": [
    {
     "data": {
      "text/plain": [
       "<matplotlib.image.AxesImage at 0x13e7050b760>"
      ]
     },
     "execution_count": 10,
     "metadata": {},
     "output_type": "execute_result"
    },
    {
     "data": {
      "image/png": "[encoded data removed]",
      "text/plain": [
       "<Figure size 640x480 with 1 Axes>"
      ]
     },
     "metadata": {},
     "output_type": "display_data"
    }
   ],
   "source": [
    "from PIL import Image\n",
    "\n",
    "def to_grayscale(images: List[np.ndarray]) -> List[np.ndarray]:\n",
    "  '''\n",
    "  to convert the image to grayscale\n",
    "  '''\n",
    "  return [Image.fromarray(image).convert('L') for image in images]\n",
    "\n",
    "grayscale_train_digits = preprocess_image(train_digits, to_grayscale)\n",
    "grayscale_test_digits = preprocess_image(test_digits, to_grayscale)\n",
    "\n",
    "plt.imshow(grayscale_train_digits['eight'][0], cmap='gray')"
   ]
  },
  {
   "cell_type": "code",
   "execution_count": 11,
   "metadata": {},
   "outputs": [],
   "source": [
    "from sklearn.neighbors import KNeighborsClassifier\n",
    "\n",
    "K = 5\n",
    "\n",
    "def flatten_images(images: List[np.ndarray]) -> List[np.ndarray]:\n",
    "  '''\n",
    "  to flatten the image\n",
    "  '''\n",
    "  return [np.array(image).flatten() for image in images]\n",
    "\n",
    "def train_knn_model(train_images: Digits, K: int) -> KNeighborsClassifier:\n",
    "  '''\n",
    "  to train the knn model\n",
    "  '''\n",
    "  train_images = preprocess_image(train_images, flatten_images)\n",
    "  X = []\n",
    "  y = []\n",
    "  for key in train_images.keys():\n",
    "    X += train_images[key]\n",
    "    y += [key] * len(train_images[key])\n",
    "  model = KNeighborsClassifier(n_neighbors=K)\n",
    "  model.fit(X, y)\n",
    "  return model\n",
    "\n",
    "model = train_knn_model(grayscale_train_digits, K)\n"
   ]
  },
  {
   "cell_type": "code",
   "execution_count": 12,
   "metadata": {},
   "outputs": [
    {
     "data": {
      "text/plain": [
       "array(['eight'], dtype='<U5')"
      ]
     },
     "execution_count": 12,
     "metadata": {},
     "output_type": "execute_result"
    }
   ],
   "source": [
    "model.predict(flatten_images([grayscale_test_digits['eight'][0]]))"
   ]
  },
  {
   "cell_type": "markdown",
   "metadata": {},
   "source": [
    "2. KNN K =5,HOGfeatures"
   ]
  },
  {
   "cell_type": "code",
   "execution_count": 13,
   "metadata": {},
   "outputs": [
    {
     "name": "stderr",
     "output_type": "stream",
     "text": [
      "c:\\Users\\USER\\OneDrive\\Documents\\Python\\MLforDS\\venv\\lib\\site-packages\\joblib\\externals\\loky\\backend\\context.py:136: UserWarning: Could not find the number of physical cores for the following reason:\n",
      "found 0 physical cores < 1\n",
      "Returning the number of logical cores instead. You can silence this warning by setting LOKY_MAX_CPU_COUNT to the number of cores you want to use.\n",
      "  warnings.warn(\n",
      "  File \"c:\\Users\\USER\\OneDrive\\Documents\\Python\\MLforDS\\venv\\lib\\site-packages\\joblib\\externals\\loky\\backend\\context.py\", line 282, in _count_physical_cores\n",
      "    raise ValueError(f\"found {cpu_count_physical} physical cores < 1\")\n"
     ]
    },
    {
     "data": {
      "text/plain": [
       "array(['eight'], dtype='<U5')"
      ]
     },
     "execution_count": 13,
     "metadata": {},
     "output_type": "execute_result"
    }
   ],
   "source": [
    "from cv2 import HOGDescriptor\n",
    "\n",
    "def HOG(images: List[np.ndarray]) -> List[np.ndarray]:\n",
    "  '''\n",
    "  to extract the HOG feature from the image\n",
    "  '''\n",
    "  winSize = (24,24) #same as the size of the image\n",
    "  blockSize = (16,16) #OpenCV only supports 16 x 16 block sizes\n",
    "  blockStride = (8,8) #multiple of cell size. Here it is multiple of 1.\n",
    "  cellSize = (8,8) #OpenCV only supports 8x8 cell size. That means each Block will have 4 histograms\n",
    "  nbins = 9 #OpenCV only supports 9 orientations per cell.  That means 1 block has 4 x 9 = 36 features\n",
    "  derivAperture = 1\n",
    "  winSigma = 4.\n",
    "  histogramNormType = 0\n",
    "  L2HysThreshold = 2.0000000000000001e-01\n",
    "  gammaCorrection = 0\n",
    "  hog = cv2.HOGDescriptor(winSize,blockSize,blockStride,cellSize,nbins,derivAperture,winSigma,\n",
    "                          histogramNormType,L2HysThreshold,gammaCorrection)\n",
    "  \n",
    "  result = []\n",
    "  for image in images:\n",
    "    result.append(hog.compute(np.array(image)))\n",
    "\n",
    "  return result\n",
    "\n",
    "\n",
    "def train_knn_model_HOG(train_images: Digits, K: int) -> KNeighborsClassifier:\n",
    "  '''\n",
    "  to train the knn model with HOG feature\n",
    "  '''\n",
    "  train_images = preprocess_image(train_images, HOG)\n",
    "  X = []\n",
    "  y = []\n",
    "  for key in train_images.keys():\n",
    "    X += train_images[key]\n",
    "    y += [key] * len(train_images[key])\n",
    "  model = KNeighborsClassifier(n_neighbors=K)\n",
    "  model.fit(X, y)\n",
    "  return model\n",
    "\n",
    "model_HOG = train_knn_model_HOG(grayscale_train_digits, K)\n",
    "\n",
    "model_HOG.predict(HOG([grayscale_test_digits['eight'][0]]))"
   ]
  },
  {
   "cell_type": "markdown",
   "metadata": {},
   "source": [
    "3. KNN K = 1, gray scale features"
   ]
  },
  {
   "cell_type": "code",
   "execution_count": 14,
   "metadata": {},
   "outputs": [
    {
     "data": {
      "text/plain": [
       "array(['nine'], dtype='<U5')"
      ]
     },
     "execution_count": 14,
     "metadata": {},
     "output_type": "execute_result"
    }
   ],
   "source": [
    "K = 1\n",
    "\n",
    "grayscale_train_digits = preprocess_image(train_digits, to_grayscale)\n",
    "grayscale_test_digits = preprocess_image(test_digits, to_grayscale)\n",
    "\n",
    "model_gray = train_knn_model(grayscale_train_digits, K)\n",
    "\n",
    "model_gray.predict(flatten_images([grayscale_test_digits['nine'][5]]))"
   ]
  },
  {
   "cell_type": "code",
   "execution_count": 15,
   "metadata": {},
   "outputs": [
    {
     "data": {
      "text/plain": [
       "array(['nine'], dtype='<U5')"
      ]
     },
     "execution_count": 15,
     "metadata": {},
     "output_type": "execute_result"
    }
   ],
   "source": [
    "model_gray.predict(flatten_images([grayscale_test_digits['nine'][5]]))\n"
   ]
  },
  {
   "cell_type": "markdown",
   "metadata": {},
   "source": [
    "4. KNN K = 1, HOG features with use 20° histogram orientations of non-directional gradients (ie., 9 bins) with 16 x 16\n",
    "overlapping pixel windows for each 24 x 24 digit. Each digit will, thus, have 144 HOG features\n",
    "from 4 x 4 x 9, with 9 histogram values x 4 per 16 by 16 block x 4 such blocks per 24 x 24 image."
   ]
  },
  {
   "cell_type": "code",
   "execution_count": 16,
   "metadata": {},
   "outputs": [
    {
     "data": {
      "text/plain": [
       "array(['eight'], dtype='<U5')"
      ]
     },
     "execution_count": 16,
     "metadata": {},
     "output_type": "execute_result"
    }
   ],
   "source": [
    "def mod_HOG(images: List[np.ndarray]) -> List[np.ndarray]:\n",
    "  '''\n",
    "  to extract the HOG feature from the image\n",
    "  '''\n",
    "  winSize = (24,24)\n",
    "  blockSize = (16,16)\n",
    "  blockStride = (8,8)  # Overlapping of 50%\n",
    "  cellSize = (8,8)\n",
    "  nbins = 9  # Number of orientation bins\n",
    "  hog = cv2.HOGDescriptor(winSize, blockSize, blockStride, cellSize, nbins)\n",
    "  hog_descriptors = []\n",
    "  for image in images:\n",
    "      # Ensure the image is a numpy array\n",
    "      if not isinstance(image, np.ndarray):\n",
    "          image = np.array(image)\n",
    "      # Ensure the image is grayscale\n",
    "      if len(image.shape) > 2:\n",
    "          image = cv2.cvtColor(image, cv2.COLOR_BGR2GRAY)\n",
    "      hog_descriptor = hog.compute(image)\n",
    "      hog_descriptors.append(hog_descriptor)\n",
    "  return hog_descriptors\n",
    "\n",
    "\n",
    "model_HOG = train_knn_model_HOG(grayscale_train_digits, K)\n",
    "\n",
    "model_HOG.predict(mod_HOG([grayscale_test_digits['eight'][0]]))"
   ]
  },
  {
   "cell_type": "markdown",
   "metadata": {},
   "source": [
    "## 2.2\n",
    "Use KNN K = 1 with HOG features to report:\n",
    "1. 5 pts. 1.0 hrs. Result for 2 test images per digit 0..9 cropped out from digits.png but not\n",
    "aligned at the original 20 x 20 image, so you may have smaller or bigger input image sizes.\n",
    "You must rescale each test image to 24 x 24 because HOG requires this scaling."
   ]
  },
  {
   "cell_type": "markdown",
   "metadata": {},
   "source": [
    "the image from 0-9\n",
    "<br>\n",
    "<img src=\"./Q3/Q2_2_a_datadir.png\"/>"
   ]
  },
  {
   "cell_type": "code",
   "execution_count": 20,
   "metadata": {},
   "outputs": [
    {
     "name": "stdout",
     "output_type": "stream",
     "text": [
      "from image of  0 got:  ['zero']\n",
      "from image of  0 got:  ['zero']\n",
      "from image of  1 got:  ['one']\n",
      "from image of  1 got:  ['four']\n",
      "from image of  2 got:  ['two']\n",
      "from image of  2 got:  ['two']\n",
      "from image of  3 got:  ['three']\n",
      "from image of  3 got:  ['three']\n",
      "from image of  4 got:  ['four']\n",
      "from image of  4 got:  ['four']\n",
      "from image of  5 got:  ['five']\n",
      "from image of  5 got:  ['five']\n",
      "from image of  6 got:  ['six']\n",
      "from image of  6 got:  ['five']\n",
      "from image of  7 got:  ['seven']\n",
      "from image of  7 got:  ['one']\n",
      "from image of  8 got:  ['eight']\n",
      "from image of  8 got:  ['eight']\n",
      "from image of  9 got:  ['three']\n",
      "from image of  9 got:  ['nine']\n"
     ]
    }
   ],
   "source": [
    "import os\n",
    "for imagename in os.listdir('./Q3/2_2_a/'):\n",
    "  image = cv2.imread('./Q3/2_2_a/' + imagename)\n",
    "  # rescue the image to 24*24\n",
    "  resized_image = cv2.resize(image, (24, 24))\n",
    "  # use the model to predict the image\n",
    "  print(\"from image of \",imagename.split(\"_\")[0], \"got: \", model_HOG.predict(mod_HOG([resized_image])))"
   ]
  },
  {
   "cell_type": "markdown",
   "metadata": {},
   "source": [
    "2. 5 pts. 1.0 hrs. Result for 2 test images per digit 0..9 you create in a Paint program to see if\n",
    "you can find your character. Each test image should be big to start with such as 50x50, but\n",
    "you should rescale it to 24 x 24 before testing."
   ]
  },
  {
   "cell_type": "markdown",
   "metadata": {},
   "source": [
    "I found the code that can [write image with tkinter](https://stackoverflow.com/questions/55575685/jupyter-notebook-let-a-user-inputs-a-drawing) and I need to implement it to use only image and not save to disk."
   ]
  },
  {
   "cell_type": "code",
   "execution_count": 41,
   "metadata": {},
   "outputs": [],
   "source": [
    "from PIL import ImageTk, Image, ImageDraw\n",
    "import PIL\n",
    "from tkinter import *\n",
    "import numpy as np\n",
    "\n",
    "width = 200  # canvas width\n",
    "height = 200 # canvas height\n",
    "center = height//2\n",
    "black = (255, 255, 255) # canvas back\n",
    "\n",
    "# Create a dictionary to store the images for each digit\n",
    "digit_images = {i: [] for i in range(10)}\n",
    "\n",
    "def save():\n",
    "    # Save the images and add them to the dictionary\n",
    "    for i, output_image in enumerate([output_image1, output_image2]):\n",
    "        resized_image = output_image.resize((24, 24))\n",
    "\n",
    "        digit_images[digit.get()].append(np.array(resized_image))\n",
    "        output_image.save(f\"digit_{digit.get()}_{i}.png\")\n",
    "    # Clear the canvases\n",
    "    canvas1.delete(\"all\")\n",
    "    canvas2.delete(\"all\")\n",
    "\n",
    "def paint(event: Event[Canvas], draw):\n",
    "    x1, y1 = (event.x - 1), (event.y - 1)\n",
    "    x2, y2 = (event.x + 1), (event.y + 1)\n",
    "    event.widget.create_oval(x1, y1, x2, y2, fill=\"white\",width=20)\n",
    "    draw.line([x1, y1, x2, y2],fill=\"white\",width=20)\n",
    "\n",
    "master = Tk()\n",
    "\n",
    "# Create a dropdown menu to select the digit\n",
    "digit = IntVar(master)\n",
    "digit.set(0) # default value\n",
    "digit_menu = OptionMenu(master, digit, *range(10))\n",
    "digit_menu.pack()\n",
    "\n",
    "# Create two tkinter canvases to draw on\n",
    "canvas1 = Canvas(master, width=width, height=height, bg='black')\n",
    "canvas1.pack()\n",
    "canvas2 = Canvas(master, width=width, height=height, bg='black')\n",
    "canvas2.pack()\n",
    "\n",
    "# Create two empty PIL images and draw objects to draw on\n",
    "output_image1 = PIL.Image.new(\"RGB\", (width, height), black)\n",
    "draw1 = ImageDraw.Draw(output_image1)\n",
    "output_image2 = PIL.Image.new(\"RGB\", (width, height), black)\n",
    "draw2 = ImageDraw.Draw(output_image2)\n",
    "\n",
    "canvas1.bind(\"<B1-Motion>\", lambda event: paint(event, draw1))\n",
    "canvas2.bind(\"<B1-Motion>\", lambda event: paint(event, draw2))\n",
    "\n",
    "# Add a button to save the images\n",
    "button=Button(text=\"save\",command=save)\n",
    "button.pack()\n",
    "\n",
    "master.mainloop()"
   ]
  },
  {
   "cell_type": "code",
   "execution_count": 38,
   "metadata": {},
   "outputs": [
    {
     "name": "stdout",
     "output_type": "stream",
     "text": [
      "Digit 0 has 2 images\n",
      "Digit 1 has 0 images\n",
      "Digit 2 has 0 images\n",
      "Digit 3 has 0 images\n",
      "Digit 4 has 0 images\n",
      "Digit 5 has 0 images\n",
      "Digit 6 has 0 images\n",
      "Digit 7 has 0 images\n",
      "Digit 8 has 0 images\n",
      "Digit 9 has 0 images\n"
     ]
    }
   ],
   "source": [
    "for i in range(10):\n",
    "  print(f\"Digit {i} has {len(digit_images[i])} images\")"
   ]
  },
  {
   "cell_type": "code",
   "execution_count": 39,
   "metadata": {},
   "outputs": [
    {
     "data": {
      "text/plain": [
       "<matplotlib.image.AxesImage at 0x13e127f0e50>"
      ]
     },
     "execution_count": 39,
     "metadata": {},
     "output_type": "execute_result"
    },
    {
     "data": {
      "image/png": "[encoded data removed]",
      "text/plain": [
       "<Figure size 640x480 with 1 Axes>"
      ]
     },
     "metadata": {},
     "output_type": "display_data"
    }
   ],
   "source": [
    "plt.imshow(digit_images[0][0], cmap='gray')"
   ]
  },
  {
   "cell_type": "code",
   "execution_count": 36,
   "metadata": {},
   "outputs": [
    {
     "name": "stdout",
     "output_type": "stream",
     "text": [
      "from image of  0 got:  ['eight']\n",
      "from image of  0 got:  ['two']\n",
      "from image of  1 got:  ['four']\n",
      "from image of  1 got:  ['eight']\n",
      "from image of  2 got:  ['four']\n",
      "from image of  2 got:  ['nine']\n",
      "from image of  3 got:  ['four']\n",
      "from image of  3 got:  ['two']\n",
      "from image of  4 got:  ['four']\n",
      "from image of  4 got:  ['nine']\n",
      "from image of  5 got:  ['four']\n",
      "from image of  5 got:  ['four']\n",
      "from image of  6 got:  ['four']\n",
      "from image of  6 got:  ['four']\n",
      "from image of  7 got:  ['four']\n",
      "from image of  7 got:  ['four']\n",
      "from image of  8 got:  ['four']\n",
      "from image of  8 got:  ['nine']\n",
      "from image of  9 got:  ['four']\n",
      "from image of  9 got:  ['nine']\n"
     ]
    }
   ],
   "source": [
    "for i in digit_images.keys():\n",
    "  for j in range(len(digit_images[i])):\n",
    "    print(\"from image of \",i, \"got: \", model_HOG.predict(mod_HOG([digit_images[i][j]])))"
   ]
  },
  {
   "cell_type": "code",
   "execution_count": null,
   "metadata": {},
   "outputs": [],
   "source": [
    "from PIL import ImageTk, Image, ImageDraw\n",
    "import PIL\n",
    "from tkinter import *\n",
    "import numpy as np\n",
    "\n",
    "width = 200  # canvas width\n",
    "height = 200 # canvas height\n",
    "center = height//2\n",
    "white = (255, 255, 255) # canvas back\n",
    "\n",
    "# Create a dictionary to store the images for each digit\n",
    "digit_images = {i: [] for i in range(10)}\n",
    "\n",
    "def save():\n",
    "    # Save the images and add them to the dictionary\n",
    "    for i, output_image in enumerate([output_image1, output_image2]):\n",
    "        resized_image = output_image.resize((24, 24))\n",
    "        digit_images[digit.get()].append(np.array(resized_image))\n",
    "        output_image.save(f\"digit_{digit.get()}_{i}.png\")\n",
    "    # Clear the canvases\n",
    "    canvas1.delete(\"all\")\n",
    "    canvas2.delete(\"all\")\n",
    "\n",
    "def paint(event, draw):\n",
    "    x1, y1 = (event.x - 1), (event.y - 1)\n",
    "    x2, y2 = (event.x + 1), (event.y + 1)\n",
    "    event.widget.create_oval(x1, y1, x2, y2, fill=\"black\",width=20)\n",
    "    draw.line([x1, y1, x2, y2],fill=\"black\",width=20)\n",
    "\n",
    "master = Tk()\n",
    "\n",
    "# Create a dropdown menu to select the digit\n",
    "digit = IntVar(master)\n",
    "digit.set(0) # default value\n",
    "digit_menu = OptionMenu(master, digit, *range(10))\n",
    "digit_menu.pack()\n",
    "\n",
    "# Create two tkinter canvases to draw on\n",
    "canvas1 = Canvas(master, width=width, height=height, bg='white')\n",
    "canvas1.pack()\n",
    "canvas2 = Canvas(master, width=width, height=height, bg='white')\n",
    "canvas2.pack()\n",
    "\n",
    "# Create two empty PIL images and draw objects to draw on\n",
    "output_image1 = PIL.Image.new(\"RGB\", (width, height), white)\n",
    "draw1 = ImageDraw.Draw(output_image1)\n",
    "output_image2 = PIL.Image.new(\"RGB\", (width, height), white)\n",
    "draw2 = ImageDraw.Draw(output_image2)\n",
    "\n",
    "canvas1.bind(\"<B1-Motion>\", lambda event: paint(event, draw1))\n",
    "canvas2.bind(\"<B1-Motion>\", lambda event: paint(event, draw2))\n",
    "\n",
    "# Add a button to save the images\n",
    "button=Button(text=\"save\",command=save)\n",
    "button.pack()\n",
    "\n",
    "master.mainloop()"
   ]
  },
  {
   "cell_type": "code",
   "execution_count": null,
   "metadata": {},
   "outputs": [],
   "source": []
  }
 ],
 "metadata": {
  "kernelspec": {
   "display_name": "venv",
   "language": "python",
   "name": "python3"
  },
  "language_info": {
   "codemirror_mode": {
    "name": "ipython",
    "version": 3
   },
   "file_extension": ".py",
   "mimetype": "text/x-python",
   "name": "python",
   "nbconvert_exporter": "python",
   "pygments_lexer": "ipython3",
   "version": "3.10.5"
  }
 },
 "nbformat": 4,
 "nbformat_minor": 2
}
