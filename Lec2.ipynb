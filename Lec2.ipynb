{
 "cells": [
  {
   "cell_type": "markdown",
   "metadata": {},
   "source": [
    "# Quiz 2"
   ]
  },
  {
   "cell_type": "markdown",
   "metadata": {},
   "source": [
    "## 1\n",
    "Min Distance classifier on 3 Gaussian Classes. Modify your KNN program from quiz 1\n",
    "with 3 classes to create 50 random points for each class: red, blue, and yellow from a 2D Gaussian\n",
    "distribution (see Gaussian Data.ipynb) with means: (20, 30), (40, 40), (50, 40) and (s_x, s_y) of\n",
    "(3, 10), (10, 10), (15, 15), for red, blue, and yellow, respectively. Use 70% of the dataset as\n",
    "training data and 30% as testing data."
   ]
  },
  {
   "cell_type": "markdown",
   "metadata": {},
   "source": [
    "- 5 pts. Plot the 3 classes using the training data.\n",
    "- 5 pts. Using KNN with K = 5, report the total accuracy of the testing data.\n",
    "- Code your own minimum distance classifier:\n",
    "- 5 pts. Report the training data cluster mean for each class of red, blue, and yellow.\n",
    "- 5 pts. Report the total accuracy of the testing data using this classifier.\n",
    "- 10 pts. Compare both your results with using sklearn’s NearestCentroid. Here’s\n",
    "some sample code showing how it is used:\n",
    "```python\n",
    "from sklearn.neighbors import NearestCentroid\n",
    "import numpy as np\n",
    "X = np.array([[-1, -1], [-2, -1], [-3, -2], [1, 1], [2, 1], [3, 2]])\n",
    "y = np.array([1, 1, 1, 2, 2, 2])\n",
    "clf = NearestCentroid()\n",
    "clf.fit(X, y)\n",
    "print(clf.predict([[-0.8, -1]])) #To test a point\n",
    "print(clf.centroids_) #To print the centroids\n",
    "```"
   ]
  },
  {
   "cell_type": "code",
   "execution_count": 1,
   "metadata": {},
   "outputs": [],
   "source": [
    "from tools.SuperviseLearning.KNN import KNN"
   ]
  },
  {
   "cell_type": "code",
   "execution_count": 2,
   "metadata": {},
   "outputs": [],
   "source": [
    "knn = KNN.from_2d_normal_dist([(20, 30), (40, 40), (50,40)], [(3, 10), (10, 10), (15, 15)], 50)"
   ]
  },
  {
   "cell_type": "code",
   "execution_count": 3,
   "metadata": {},
   "outputs": [
    {
     "data": {
      "text/plain": [
       "array([[19.92473411, 26.52941654],\n",
       "       [20.8336794 , 36.30712447],\n",
       "       [21.82720931, 31.21858662],\n",
       "       [16.43671156, 41.47732542],\n",
       "       [23.40481721, 26.00302913],\n",
       "       [21.07963706, 46.35317238],\n",
       "       [21.32749565, 43.58258517],\n",
       "       [20.06966887, 31.57474114],\n",
       "       [17.83600561, 11.92111425],\n",
       "       [22.61644332, 24.48502122],\n",
       "       [18.34471368, 23.64434292],\n",
       "       [13.47771684, 29.23472   ],\n",
       "       [18.04456518, 22.24823975],\n",
       "       [18.40347609, 10.07557311],\n",
       "       [23.49599667, 26.18046094],\n",
       "       [18.99104828, 21.75178192],\n",
       "       [19.91076529, 14.55801516],\n",
       "       [20.65135274, 31.92508057],\n",
       "       [22.23310085, 41.4078731 ],\n",
       "       [14.95028964, 19.76149038],\n",
       "       [21.38610027, 17.89526925],\n",
       "       [17.16967589, 29.80560362],\n",
       "       [16.22754278, 28.70740298],\n",
       "       [18.92827398, 14.49992143],\n",
       "       [18.71174651, 42.12590596],\n",
       "       [16.57497965, 30.56628251],\n",
       "       [21.66276512, 36.0455841 ],\n",
       "       [22.00555722, 26.13790714],\n",
       "       [15.74572738, 34.96072733],\n",
       "       [21.77987405, 56.61755696],\n",
       "       [15.92769242, 22.57634882],\n",
       "       [19.7652704 , 25.59881555],\n",
       "       [19.31977711, 17.03312198],\n",
       "       [29.97658575, 31.92160203],\n",
       "       [23.64462435, 26.33884443],\n",
       "       [22.42853483, 32.17384745],\n",
       "       [23.68006222, 30.19731986],\n",
       "       [23.64884308, 31.00504538],\n",
       "       [21.43621293, 32.31846682],\n",
       "       [17.11546338, 31.34523673],\n",
       "       [18.59824427, 19.60150978],\n",
       "       [20.52562182, 38.41510825],\n",
       "       [26.69948193, 23.41139686],\n",
       "       [20.1350756 , 43.87474918],\n",
       "       [17.61105743, 21.38458123],\n",
       "       [20.09858475, 16.09307125],\n",
       "       [11.35215132, 36.25436457],\n",
       "       [19.65469331, 44.57615386],\n",
       "       [18.9376218 , 44.98712484],\n",
       "       [20.48552735, 24.95583468],\n",
       "       [23.35354883, 30.81818783],\n",
       "       [38.56719719, 27.47409014],\n",
       "       [42.71780392, 45.10896512],\n",
       "       [46.67079792, 28.32501789],\n",
       "       [45.40592325, 39.20797639],\n",
       "       [38.8672441 , 42.00632843],\n",
       "       [42.26171353, 65.99685329],\n",
       "       [29.33504702, 35.75695558],\n",
       "       [28.35500927, 50.2049304 ],\n",
       "       [27.90093642, 45.36620583],\n",
       "       [42.33027466, 20.49323495],\n",
       "       [30.36931757, 43.53984646],\n",
       "       [25.55937221, 46.90626391],\n",
       "       [38.49677842, 42.64405995],\n",
       "       [43.35892458, 61.07485293],\n",
       "       [36.96375   , 36.3379864 ],\n",
       "       [37.96881002, 27.19313067],\n",
       "       [38.78356717, 40.11709804],\n",
       "       [46.20551839, 48.01427683],\n",
       "       [70.17328392, 40.53940648],\n",
       "       [29.34385975, 41.18264801],\n",
       "       [34.88826604, 28.54299717],\n",
       "       [30.72116606, 29.04268478],\n",
       "       [42.74018576, 46.33032335],\n",
       "       [32.51409116, 40.28350985],\n",
       "       [42.06588784, 47.83815088],\n",
       "       [25.62003844, 48.62669219],\n",
       "       [29.36326705, 35.80095447],\n",
       "       [34.03782886, 36.22021187],\n",
       "       [33.65147585, 48.20446336],\n",
       "       [63.63611589, 32.94491781],\n",
       "       [45.10203861, 29.94259054],\n",
       "       [57.00854661, 38.55481153],\n",
       "       [51.93333091, 22.20204819],\n",
       "       [27.30681503, 68.3249729 ],\n",
       "       [25.40036046, 34.00174293],\n",
       "       [41.13107469, 53.758557  ],\n",
       "       [34.1968087 , 43.11973977],\n",
       "       [31.40704949, 28.75598208],\n",
       "       [42.90036298, 51.94752707],\n",
       "       [40.28231566, 35.33865179],\n",
       "       [41.12370075, 39.49213872],\n",
       "       [30.14774251, 34.75010687],\n",
       "       [37.77448552, 39.44064218],\n",
       "       [64.70526285, 38.14788727],\n",
       "       [36.89045161, 42.7076047 ],\n",
       "       [27.19021337, 34.64400961],\n",
       "       [36.7990093 , 42.63919408],\n",
       "       [53.67010045, 39.57768991],\n",
       "       [50.17122805, 37.36977648],\n",
       "       [48.4196008 , 35.00444923],\n",
       "       [60.46798797, 34.92167131],\n",
       "       [61.55308932, 27.82432689],\n",
       "       [49.73523214, 23.97410805],\n",
       "       [61.86190635, 56.05734713],\n",
       "       [94.18869289, 36.07186918],\n",
       "       [85.40954598, 17.87454461],\n",
       "       [45.43620256, 22.54774301],\n",
       "       [42.44680552, 34.32023432],\n",
       "       [50.09318895, 72.24246282],\n",
       "       [67.31866755, 18.87436694],\n",
       "       [41.07935564, 28.27403367],\n",
       "       [63.05508507, 47.51444197],\n",
       "       [40.99262088, 27.76866846],\n",
       "       [48.33993782, 14.70235998],\n",
       "       [72.64820642, 20.11035362],\n",
       "       [50.66381013, 23.57035223],\n",
       "       [64.77131617, 28.70918065],\n",
       "       [33.79100776, 22.42549381],\n",
       "       [41.8919726 , 39.92524503],\n",
       "       [61.0468502 , 36.02713726],\n",
       "       [39.10884583, 42.77929438],\n",
       "       [52.51578478, 31.11763875],\n",
       "       [66.96979635, 51.43618934],\n",
       "       [44.42715596, 40.89569879],\n",
       "       [92.1442529 , 40.4538526 ],\n",
       "       [60.30457332, 25.43457836],\n",
       "       [77.51647517, 51.26147287],\n",
       "       [38.11780046, 48.43543936],\n",
       "       [55.77275223, 52.11611314],\n",
       "       [23.99976559, 53.40801784],\n",
       "       [67.37476675, 39.40229987],\n",
       "       [53.12631659,  3.84339046],\n",
       "       [44.81505637, 44.45766718],\n",
       "       [46.28260885, 64.38005517],\n",
       "       [56.1542364 , 34.82400768],\n",
       "       [48.29694627, 35.34442608],\n",
       "       [43.67224951, 18.28625884],\n",
       "       [33.16051849, 28.42197642],\n",
       "       [54.81399659, 59.97051713],\n",
       "       [55.31552834, 38.52039812],\n",
       "       [35.95502717, 54.81459013],\n",
       "       [38.09889311, 42.19094615],\n",
       "       [71.42714119, 30.36277478],\n",
       "       [50.84338869, 12.80955558],\n",
       "       [38.23198502, 49.01005701],\n",
       "       [69.89760593, 51.05033272],\n",
       "       [36.56610159, 66.17084744],\n",
       "       [48.51345106, 23.50633764],\n",
       "       [12.75954101, 64.55425449]])"
      ]
     },
     "execution_count": 3,
     "metadata": {},
     "output_type": "execute_result"
    }
   ],
   "source": [
    "X = knn.features[[\"feature_x\", \"feature_y\"]].to_numpy()\n",
    "X"
   ]
  },
  {
   "cell_type": "code",
   "execution_count": 4,
   "metadata": {},
   "outputs": [
    {
     "data": {
      "text/plain": [
       "array([0, 0, 0, 0, 0, 0, 0, 0, 0, 0, 0, 0, 0, 0, 0, 0, 0, 0, 0, 0, 0, 0,\n",
       "       0, 0, 0, 0, 0, 0, 0, 0, 0, 0, 0, 0, 0, 0, 0, 0, 0, 0, 0, 0, 0, 0,\n",
       "       0, 0, 0, 0, 0, 0, 1, 1, 1, 1, 1, 1, 1, 1, 1, 1, 1, 1, 1, 1, 1, 1,\n",
       "       1, 1, 1, 1, 1, 1, 1, 1, 1, 1, 1, 1, 1, 1, 1, 1, 1, 1, 1, 1, 1, 1,\n",
       "       1, 1, 1, 1, 1, 1, 1, 1, 1, 1, 1, 1, 2, 2, 2, 2, 2, 2, 2, 2, 2, 2,\n",
       "       2, 2, 2, 2, 2, 2, 2, 2, 2, 2, 2, 2, 2, 2, 2, 2, 2, 2, 2, 2, 2, 2,\n",
       "       2, 2, 2, 2, 2, 2, 2, 2, 2, 2, 2, 2, 2, 2, 2, 2, 2, 2])"
      ]
     },
     "execution_count": 4,
     "metadata": {},
     "output_type": "execute_result"
    }
   ],
   "source": [
    "Y = knn.label.to_numpy()\n",
    "Y"
   ]
  },
  {
   "cell_type": "markdown",
   "metadata": {},
   "source": [
    "- Plot the 3 classes using the training data."
   ]
  },
  {
   "cell_type": "code",
   "execution_count": 5,
   "metadata": {},
   "outputs": [
    {
     "data": {
      "text/plain": [
       "<matplotlib.collections.PathCollection at 0x14f86a020>"
      ]
     },
     "execution_count": 5,
     "metadata": {},
     "output_type": "execute_result"
    },
    {
     "data": {
      "image/png": "[encoded data removed]",
      "text/plain": [
       "<Figure size 640x480 with 1 Axes>"
      ]
     },
     "metadata": {},
     "output_type": "display_data"
    }
   ],
   "source": [
    "import matplotlib.pyplot as plt\n",
    "\n",
    "point_per_class = 50\n",
    "plt.scatter(X[:point_per_class, 0], X[:point_per_class, 1], color='r', label='red')\n",
    "plt.scatter(X[point_per_class:point_per_class*2, 0], X[point_per_class:point_per_class*2, 1], color='b', label='blue')\n",
    "plt.scatter(X[point_per_class*2:point_per_class*3, 0], X[point_per_class*2:point_per_class*3, 1], color='y', label='yellow')"
   ]
  },
  {
   "cell_type": "code",
   "execution_count": 6,
   "metadata": {},
   "outputs": [],
   "source": [
    "train, test = knn.split_train_test(.3)"
   ]
  },
  {
   "cell_type": "code",
   "execution_count": 7,
   "metadata": {},
   "outputs": [
    {
     "data": {
      "text/plain": [
       "((105, 3), (45, 3))"
      ]
     },
     "execution_count": 7,
     "metadata": {},
     "output_type": "execute_result"
    }
   ],
   "source": [
    "train.shape, test.shape"
   ]
  },
  {
   "cell_type": "code",
   "execution_count": 8,
   "metadata": {},
   "outputs": [
    {
     "data": {
      "text/html": [
       "<div>\n",
       "<style scoped>\n",
       "    .dataframe tbody tr th:only-of-type {\n",
       "        vertical-align: middle;\n",
       "    }\n",
       "\n",
       "    .dataframe tbody tr th {\n",
       "        vertical-align: top;\n",
       "    }\n",
       "\n",
       "    .dataframe thead th {\n",
       "        text-align: right;\n",
       "    }\n",
       "</style>\n",
       "<table border=\"1\" class=\"dataframe\">\n",
       "  <thead>\n",
       "    <tr style=\"text-align: right;\">\n",
       "      <th></th>\n",
       "      <th>feature_x</th>\n",
       "      <th>feature_y</th>\n",
       "      <th>label</th>\n",
       "    </tr>\n",
       "  </thead>\n",
       "  <tbody>\n",
       "    <tr>\n",
       "      <th>50</th>\n",
       "      <td>23.353549</td>\n",
       "      <td>30.818188</td>\n",
       "      <td>1</td>\n",
       "    </tr>\n",
       "    <tr>\n",
       "      <th>2</th>\n",
       "      <td>21.827209</td>\n",
       "      <td>31.218587</td>\n",
       "      <td>0</td>\n",
       "    </tr>\n",
       "    <tr>\n",
       "      <th>83</th>\n",
       "      <td>51.933331</td>\n",
       "      <td>22.202048</td>\n",
       "      <td>1</td>\n",
       "    </tr>\n",
       "    <tr>\n",
       "      <th>121</th>\n",
       "      <td>39.108846</td>\n",
       "      <td>42.779294</td>\n",
       "      <td>2</td>\n",
       "    </tr>\n",
       "    <tr>\n",
       "      <th>135</th>\n",
       "      <td>56.154236</td>\n",
       "      <td>34.824008</td>\n",
       "      <td>2</td>\n",
       "    </tr>\n",
       "    <tr>\n",
       "      <th>...</th>\n",
       "      <td>...</td>\n",
       "      <td>...</td>\n",
       "      <td>...</td>\n",
       "    </tr>\n",
       "    <tr>\n",
       "      <th>118</th>\n",
       "      <td>33.791008</td>\n",
       "      <td>22.425494</td>\n",
       "      <td>2</td>\n",
       "    </tr>\n",
       "    <tr>\n",
       "      <th>103</th>\n",
       "      <td>49.735232</td>\n",
       "      <td>23.974108</td>\n",
       "      <td>2</td>\n",
       "    </tr>\n",
       "    <tr>\n",
       "      <th>56</th>\n",
       "      <td>42.261714</td>\n",
       "      <td>65.996853</td>\n",
       "      <td>1</td>\n",
       "    </tr>\n",
       "    <tr>\n",
       "      <th>13</th>\n",
       "      <td>18.403476</td>\n",
       "      <td>10.075573</td>\n",
       "      <td>0</td>\n",
       "    </tr>\n",
       "    <tr>\n",
       "      <th>123</th>\n",
       "      <td>66.969796</td>\n",
       "      <td>51.436189</td>\n",
       "      <td>2</td>\n",
       "    </tr>\n",
       "  </tbody>\n",
       "</table>\n",
       "<p>105 rows × 3 columns</p>\n",
       "</div>"
      ],
      "text/plain": [
       "     feature_x  feature_y  label\n",
       "50   23.353549  30.818188      1\n",
       "2    21.827209  31.218587      0\n",
       "83   51.933331  22.202048      1\n",
       "121  39.108846  42.779294      2\n",
       "135  56.154236  34.824008      2\n",
       "..         ...        ...    ...\n",
       "118  33.791008  22.425494      2\n",
       "103  49.735232  23.974108      2\n",
       "56   42.261714  65.996853      1\n",
       "13   18.403476  10.075573      0\n",
       "123  66.969796  51.436189      2\n",
       "\n",
       "[105 rows x 3 columns]"
      ]
     },
     "execution_count": 8,
     "metadata": {},
     "output_type": "execute_result"
    }
   ],
   "source": [
    "train"
   ]
  },
  {
   "cell_type": "code",
   "execution_count": 9,
   "metadata": {},
   "outputs": [
    {
     "data": {
      "text/plain": [
       "0.6888888888888889"
      ]
     },
     "execution_count": 9,
     "metadata": {},
     "output_type": "execute_result"
    }
   ],
   "source": [
    "from sklearn.neighbors import KNeighborsClassifier\n",
    "\n",
    "knn = KNeighborsClassifier(n_neighbors=5)\n",
    "knn.fit(train[[\"feature_x\", \"feature_y\"]], train[\"label\"])\n",
    "\n",
    "knn.predict(test[[\"feature_x\", \"feature_y\"]])\n",
    "\n",
    "knn.score(test[[\"feature_x\", \"feature_y\"]], test[\"label\"])"
   ]
  },
  {
   "cell_type": "markdown",
   "metadata": {},
   "source": [
    "# 2\n",
    "4 hrs. Code Naive Bayes from Scratch. Write a program to read the Iris dataset, split into 2 parts:\n",
    "training and testing just like it was done in the example. Then write your own code to:"
   ]
  },
  {
   "cell_type": "markdown",
   "metadata": {},
   "source": [
    "Import the Iris dataset."
   ]
  },
  {
   "cell_type": "code",
   "execution_count": 10,
   "metadata": {},
   "outputs": [
    {
     "data": {
      "text/plain": [
       "array(['setosa', 'versicolor', 'virginica'], dtype='<U10')"
      ]
     },
     "execution_count": 10,
     "metadata": {},
     "output_type": "execute_result"
    }
   ],
   "source": [
    "from sklearn.datasets import load_iris\n",
    "\n",
    "iris = load_iris()\n",
    "\n",
    "iris.target_names"
   ]
  },
  {
   "cell_type": "code",
   "execution_count": null,
   "metadata": {},
   "outputs": [],
   "source": []
  },
  {
   "cell_type": "code",
   "execution_count": 11,
   "metadata": {},
   "outputs": [
    {
     "data": {
      "text/plain": [
       "{'sepal length (cm)': 4.9,\n",
       " 'sepal width (cm)': 3.0,\n",
       " 'petal length (cm)': 1.4,\n",
       " 'petal width (cm)': 0.2}"
      ]
     },
     "execution_count": 11,
     "metadata": {},
     "output_type": "execute_result"
    }
   ],
   "source": [
    "import pandas as pd\n",
    "\n",
    "df = pd.DataFrame(iris.data, columns=iris.feature_names)\n",
    "df[\"target\"] = iris.target\n",
    "\n",
    "df.iloc[1,:-1].to_dict()"
   ]
  },
  {
   "cell_type": "code",
   "execution_count": 12,
   "metadata": {},
   "outputs": [],
   "source": [
    "from sklearn.model_selection import train_test_split\n",
    "\n",
    "train, test = train_test_split(df, test_size=.3)"
   ]
  },
  {
   "cell_type": "markdown",
   "metadata": {},
   "source": []
  },
  {
   "cell_type": "markdown",
   "metadata": {},
   "source": [
    "Use My `NaiveBayes` class to train the model."
   ]
  },
  {
   "cell_type": "code",
   "execution_count": 13,
   "metadata": {},
   "outputs": [],
   "source": [
    "from tools.SuperviseLearning.NaiveBayes import NaiveBayes\n",
    "\n",
    "nb = NaiveBayes(train, \"target\")"
   ]
  },
  {
   "cell_type": "markdown",
   "metadata": {},
   "source": [
    "### Class Detail\n",
    "```python\n",
    "\n",
    "StatDeatils = TypedDict(\"StatDeatils\", {\"mean\": np.ndarray, \"std\": np.ndarray, \"prob\": float})\n",
    "\n",
    "class NaiveBayes(SuperviseLearning):\n",
    "    def __init__(self, df, label):\n",
    "        super().__init__(df, label)\n",
    "        self.stats: Dict[str, StatDeatils] = {k: {\"mean\": None, \"std\": None, \"prob\": None} for k in self.label.unique()}\n",
    "        \n",
    "        self.find_stats()\n",
    "\n",
    "    \n",
    "    def find_stats(self):\n",
    "        '''\n",
    "        find mean and std for each class\n",
    "        '''\n",
    "        for k in self.stats.keys():\n",
    "            self.stats[k][\"mean\"] = self.features[self.label == k].mean()\n",
    "            self.stats[k][\"std\"] = self.features[self.label == k].std()\n",
    "            self.stats[k][\"prob\"] = len(self.features[self.label == k])/len(self.features)\n",
    "\n",
    "    \n",
    "    def __gaussian_pdf(self, x, mean, sd):\n",
    "        '''\n",
    "        Gaussian probability density function\n",
    "        '''\n",
    "        return 1/(np.sqrt(2*np.pi*(sd**2))) * np.exp(-((x - mean)**2)/(2*(sd**2)))\n",
    "\n",
    "    def predict(self, x: TypedDict):\n",
    "        if x.keys() != self.stats[0].keys():\n",
    "            raise ValueError(\"input must have the same keys as features\")\n",
    "        cls_prop = {}\n",
    "        for cls_name, cls_stats in self.stats.items():\n",
    "            prob = 1\n",
    "            for f, v in x.items():\n",
    "                prob *= self.__gaussian_pdf(v, cls_stats[\"mean\"][f], cls_stats[\"std\"][f])\n",
    "            prob *= cls_stats[\"prob\"]\n",
    "            cls_prop[cls_name] = prob\n",
    "\n",
    "        return max(cls_prop, key=cls_prop.get)\n",
    "```"
   ]
  },
  {
   "cell_type": "markdown",
   "metadata": {},
   "source": [
    "5 pts. Find the mean and standard deviation for each of the 4 features of each of the 3 classes from the\n",
    "training data. μ_ik and σ_ik for i = 1..4, k = 1..3. You will get pdfs P(x_i | c_k) for each class using the\n",
    "Gaussian distribution equation with μ_ik and σ_ik for i = 1..4, k = 1..3. This gets you pdfs: P(x_1, x_2,\n",
    "x_3, x_4 | c_1), P(x_1, x_2, x_3, x_4 | c_2), P(x_1, x_2, x_3, x_4 | c_3)."
   ]
  },
  {
   "cell_type": "markdown",
   "metadata": {},
   "source": [
    "From m class method `find_stat` it already calculate statistic for every class."
   ]
  },
  {
   "cell_type": "code",
   "execution_count": 14,
   "metadata": {},
   "outputs": [
    {
     "data": {
      "text/plain": [
       "{1: {'mean': sepal length (cm)    5.881818\n",
       "  sepal width (cm)     2.790909\n",
       "  petal length (cm)    4.260606\n",
       "  petal width (cm)     1.345455\n",
       "  dtype: float64,\n",
       "  'std': sepal length (cm)    0.507724\n",
       "  sepal width (cm)     0.311612\n",
       "  petal length (cm)    0.458898\n",
       "  petal width (cm)     0.192177\n",
       "  dtype: float64,\n",
       "  'prob': 0.3142857142857143},\n",
       " 2: {'mean': sepal length (cm)    6.592105\n",
       "  sepal width (cm)     2.952632\n",
       "  petal length (cm)    5.560526\n",
       "  petal width (cm)     2.031579\n",
       "  dtype: float64,\n",
       "  'std': sepal length (cm)    0.636027\n",
       "  sepal width (cm)     0.320251\n",
       "  petal length (cm)    0.583808\n",
       "  petal width (cm)     0.286739\n",
       "  dtype: float64,\n",
       "  'prob': 0.3619047619047619},\n",
       " 0: {'mean': sepal length (cm)    4.944118\n",
       "  sepal width (cm)     3.376471\n",
       "  petal length (cm)    1.482353\n",
       "  petal width (cm)     0.264706\n",
       "  dtype: float64,\n",
       "  'std': sepal length (cm)    0.361136\n",
       "  sepal width (cm)     0.396239\n",
       "  petal length (cm)    0.178327\n",
       "  petal width (cm)     0.115161\n",
       "  dtype: float64,\n",
       "  'prob': 0.3238095238095238}}"
      ]
     },
     "execution_count": 14,
     "metadata": {},
     "output_type": "execute_result"
    }
   ],
   "source": [
    "nb.stats"
   ]
  },
  {
   "cell_type": "markdown",
   "metadata": {},
   "source": [
    "5 pts. Find the P(c_k) by counting the percent frequency of each class in your training data. Now we have\n",
    "P(c_k | x_1, x_2, x_3, x_4) ∝ P(x_1, x_2, x_3, x_4 | c_k) * P(c_k)."
   ]
  },
  {
   "cell_type": "markdown",
   "metadata": {},
   "source": [
    "I already calculate the probability of each class in `find_stat` method."
   ]
  },
  {
   "cell_type": "code",
   "execution_count": 15,
   "metadata": {},
   "outputs": [
    {
     "name": "stdout",
     "output_type": "stream",
     "text": [
      "0.3142857142857143\n",
      "0.3619047619047619\n",
      "0.3238095238095238\n"
     ]
    }
   ],
   "source": [
    "for prob in nb.stats.values():\n",
    "    print(prob[\"prob\"])"
   ]
  },
  {
   "cell_type": "markdown",
   "metadata": {},
   "source": [
    "5 pts. Then for each (x_1, x_2, x_3, x_4) in your test data: find the class k of 1, 2, or 3 for which P(c_k |\n",
    "x_1, x_2, x_3, x_4) is maximum, put that k into array my_predicted_labels"
   ]
  },
  {
   "cell_type": "code",
   "execution_count": 16,
   "metadata": {},
   "outputs": [],
   "source": [
    "my_predicted_labels = []\n",
    "for i in range(test.shape[0]):\n",
    "    my_predicted_labels.append(nb.predict(test.iloc[i,:-1].to_dict()))"
   ]
  },
  {
   "cell_type": "markdown",
   "metadata": {},
   "source": [
    "5 pts. Calculate and print the accuracy score from your implementation of Naive Bayes from scratch."
   ]
  },
  {
   "cell_type": "code",
   "execution_count": 17,
   "metadata": {},
   "outputs": [
    {
     "data": {
      "text/plain": [
       "1.0"
      ]
     },
     "execution_count": 17,
     "metadata": {},
     "output_type": "execute_result"
    }
   ],
   "source": [
    "accuracy = sum(my_predicted_labels == test[\"target\"]) / test.shape[0]\n",
    "accuracy"
   ]
  },
  {
   "cell_type": "markdown",
   "metadata": {},
   "source": [
    "5 pts. Use sklearn's GaussianNB classifier to report the accuracy score. Compare your result in (d) to\n",
    "sklearn’s."
   ]
  },
  {
   "cell_type": "code",
   "execution_count": 18,
   "metadata": {},
   "outputs": [],
   "source": [
    "from sklearn.naive_bayes import GaussianNB"
   ]
  },
  {
   "cell_type": "code",
   "execution_count": 19,
   "metadata": {},
   "outputs": [
    {
     "data": {
      "text/plain": [
       "1.0"
      ]
     },
     "execution_count": 19,
     "metadata": {},
     "output_type": "execute_result"
    }
   ],
   "source": [
    "gnb = GaussianNB()\n",
    "\n",
    "gnb.fit(train.iloc[:,:-1], train[\"target\"])\n",
    "\n",
    "gnb.predict(test.iloc[:,:-1])\n",
    "\n",
    "gnb.score(test.iloc[:,:-1], test[\"target\"])"
   ]
  },
  {
   "cell_type": "markdown",
   "metadata": {},
   "source": [
    "# 3\n",
    "1 hr. Try the digits datasets. Change the “Naive Bayes and KNN Iris and Cancer.ipynb” program\n",
    "to allow the user to also select the digits dataset by entering “digits”, in addition to “iris” and\n",
    "“cancer”. Present the output results using Sklearn for:"
   ]
  },
  {
   "cell_type": "code",
   "execution_count": 20,
   "metadata": {},
   "outputs": [],
   "source": [
    "from typing import Literal, List, Set\n",
    "\n",
    "possible_datasets: Set[Literal['iris', 'cancer', 'digit']] = {'iris', 'cancer', 'digit'}\n",
    "dataset_type : Literal['iris', 'cancer', 'digit'] = 'none'\n",
    "while dataset_type not in possible_datasets: #problem 3 add 'digits'\n",
    "  dataset_type = input('Enter iris for the Iris dataset and cancer for the Breast Cancer dataset ')\n",
    "  if dataset_type not in possible_datasets:\n",
    "    print(\"Invalid response: '%s'. Please try again.\" % dataset_type)"
   ]
  },
  {
   "cell_type": "code",
   "execution_count": 21,
   "metadata": {},
   "outputs": [],
   "source": [
    "from sklearn.datasets import load_iris, load_breast_cancer, load_digits\n",
    "if dataset_type == \"iris\":\n",
    "  the_data = load_iris() #get the data from sklearn\n",
    "elif dataset_type == 'digit':\n",
    "  the_data = load_digits()\n",
    "else:\n",
    "  the_data = load_breast_cancer() #get the data from sklearn"
   ]
  },
  {
   "cell_type": "code",
   "execution_count": 22,
   "metadata": {},
   "outputs": [],
   "source": [
    "label_names = the_data['target_names']\n",
    "feature_names = the_data['feature_names']\n",
    "all_labels = the_data['target'] #class label\n",
    "all_features = the_data['data'] #dictionaries in python"
   ]
  },
  {
   "cell_type": "code",
   "execution_count": 23,
   "metadata": {},
   "outputs": [
    {
     "name": "stdout",
     "output_type": "stream",
     "text": [
      "\n",
      "Training features: \n",
      " [[ 0.  0.  0. ... 16. 16.  6.]\n",
      " [ 0.  3. 12. ... 16.  2.  0.]\n",
      " [ 0.  1. 10. ...  0.  0.  0.]\n",
      " ...\n",
      " [ 0.  0.  5. ...  0.  0.  0.]\n",
      " [ 0.  0.  4. ...  0.  0.  0.]\n",
      " [ 0.  0.  6. ... 11.  0.  0.]]\n",
      "\n",
      "Training Labels: \n",
      " [6 5 3 ... 7 7 8]\n",
      "\n",
      "Testing Labels: \n",
      " [2 8 2 6 6 7 1 9 8 5 2 8 6 6 6 6 1 0 5 8 8 7 8 4 7 5 4 9 2 9 4 7 6 8 9 4 3\n",
      " 1 0 1 8 6 7 7 1 0 7 6 2 1 9 6 7 9 0 0 5 1 6 3 0 2 3 4 1 9 2 6 9 1 8 3 5 1\n",
      " 2 8 2 2 9 7 2 3 6 0 5 3 7 5 1 2 9 9 3 1 7 7 4 8 5 8 5 5 2 5 9 0 7 1 4 7 3\n",
      " 4 8 9 7 9 8 2 6 5 2 5 8 4 8 7 0 6 1 5 9 9 9 5 9 9 5 7 5 6 2 8 6 9 6 1 5 1\n",
      " 5 9 9 1 5 3 6 1 8 9 8 7 6 7 6 5 6 0 8 8 9 8 6 1 0 4 1 6 3 8 6 7 4 5 6 3 0\n",
      " 3 3 3 0 7 7 5 7 8 0 7 8 9 6 4 5 0 1 4 6 4 3 3 0 9 5 9 2 1 4 2 1 6 8 9 2 4\n",
      " 9 3 7 6 2 3 3 1 6 9 3 6 3 2 2 0 7 6 1 1 9 7 2 7 8 5 5 7 5 2 3 7 2 7 5 5 7\n",
      " 0 9 1 6 5 9 7 4 3 8 0 3 6 4 6 3 2 6 8 8 8 4 6 7 5 2 4 5 3 2 4 6 9 4 5 4 3\n",
      " 4 6 2 9 0 1 7 2 0 9 6 0 4 2 0 7 9 8 5 4 8 2 8 4 3 7 2 6 9 1 5 1 0 8 2 1 9\n",
      " 5 6 8 2 7 2 1 5 1 6 4 5 0 9 4 1 1 7 0 8 9 0 5 4 3 8 8]\n"
     ]
    }
   ],
   "source": [
    "from sklearn.model_selection import train_test_split\n",
    "# Spliting our dataset into 2 parts for training and testing\n",
    "training_features, testing_features, training_labels, testing_labels = train_test_split(all_features,all_labels,test_size=0.2,random_state=0)\n",
    "print(\"\\nTraining features: \\n\", training_features)\n",
    "print(\"\\nTraining Labels: \\n\", training_labels)\n",
    "print(\"\\nTesting Labels: \\n\", testing_labels)"
   ]
  },
  {
   "cell_type": "code",
   "execution_count": 24,
   "metadata": {},
   "outputs": [],
   "source": [
    "# Training our Classifier\n",
    "from sklearn.naive_bayes import GaussianNB\n",
    "classifier = GaussianNB() #classifier is now an object of the Gaussian Naive Bayes class\n",
    "model = classifier.fit(training_features,training_labels)\n",
    "predicted_labels = model.predict(testing_features) #use the model obtained in previous step to predict labels for testing features"
   ]
  },
  {
   "cell_type": "code",
   "execution_count": 25,
   "metadata": {},
   "outputs": [
    {
     "name": "stdout",
     "output_type": "stream",
     "text": [
      "Prediction Accuracy : 82.50%\n"
     ]
    }
   ],
   "source": [
    "from sklearn.metrics import accuracy_score\n",
    "# Calculating the % Accuracy of the prediction. For Iris dataset random_state = 0 gives 97%, random_state 40 gives 100%, random_state 5 gives 90%.\n",
    "accuracy_percent = 100*accuracy_score(testing_labels,predicted_labels)\n",
    "print(\"Prediction Accuracy : %5.2f%%\" % accuracy_percent) #%% escapes the formatting % to print '%'"
   ]
  },
  {
   "cell_type": "code",
   "execution_count": 26,
   "metadata": {},
   "outputs": [
    {
     "name": "stdout",
     "output_type": "stream",
     "text": [
      "Prediction Accuracy for k =  2 : 98.06%\n",
      "Prediction Accuracy for k =  3 : 98.33%\n",
      "Prediction Accuracy for k =  4 : 97.50%\n",
      "Prediction Accuracy for k =  5 : 97.50%\n",
      "Prediction Accuracy for k =  6 : 97.22%\n",
      "Prediction Accuracy for k =  7 : 97.50%\n",
      "Prediction Accuracy for k =  8 : 97.50%\n",
      "Prediction Accuracy for k =  9 : 97.50%\n",
      "Prediction Accuracy for k = 10 : 97.22%\n",
      "Prediction Accuracy for k = 11 : 97.22%\n",
      "Prediction Accuracy for k = 12 : 97.22%\n",
      "Prediction Accuracy for k = 13 : 97.22%\n",
      "Prediction Accuracy for k = 14 : 96.94%\n",
      "Prediction Accuracy for k = 15 : 96.94%\n",
      "Prediction Accuracy for k = 16 : 96.94%\n",
      "Prediction Accuracy for k = 17 : 96.67%\n",
      "Prediction Accuracy for k = 18 : 96.67%\n",
      "Prediction Accuracy for k = 19 : 96.11%\n",
      " K =  [2, 3, 4, 5, 6, 7, 8, 9, 10, 11, 12, 13, 14, 15, 16, 17, 18, 19] \n",
      " Errors =  [1.9444444444444429, 1.6666666666666714, 2.5, 2.5, 2.7777777777777857, 2.5, 2.5, 2.5, 2.7777777777777857, 2.7777777777777857, 2.7777777777777857, 2.7777777777777857, 3.055555555555557, 3.055555555555557, 3.055555555555557, 3.3333333333333286, 3.3333333333333286, 3.8888888888888857]\n"
     ]
    }
   ],
   "source": [
    "from sklearn.neighbors import KNeighborsClassifier\n",
    "neighbor_size = []\n",
    "errors_list = []\n",
    "for k in range (2, 20):\n",
    "  classifier = KNeighborsClassifier(n_neighbors = k)\n",
    "  model = classifier.fit(training_features,training_labels)  # or can also use:   predicted_labels = classifier.fit(train_features,train_labels)\n",
    "  predicted_labels = model.predict(testing_features) #use the model obtained in previous step to predict labels for testing features\n",
    "  accuracy_percent = 100*accuracy_score(testing_labels,predicted_labels)\n",
    "  # Calculating the % Accuracy of the prediction.\n",
    "  print(\"Prediction Accuracy for k = %2d : %5.2f%%\" % (k, accuracy_percent)) #%% escapes the formatting % to print '%'\n",
    "  neighbor_size.append(k)\n",
    "  errors_list.append(100-accuracy_percent)\n",
    "\n",
    "print (\" K = \", neighbor_size, \"\\n\", \"Errors = \", errors_list)"
   ]
  },
  {
   "cell_type": "code",
   "execution_count": 27,
   "metadata": {},
   "outputs": [
    {
     "data": {
      "image/png": "[encoded data removed]",
      "text/plain": [
       "<Figure size 1000x600 with 1 Axes>"
      ]
     },
     "metadata": {},
     "output_type": "display_data"
    }
   ],
   "source": [
    "import matplotlib.pyplot as plt\n",
    "plt.figure(figsize = (10, 6 ))\n",
    "plt.plot(neighbor_size, errors_list) #x list and y list\n",
    "plt.xlabel('Number of neighbors')\n",
    "plt.ylabel('Misclassification Error Percent')\n",
    "plt.ylim((0,10))\n",
    "plt.grid(True)\n",
    "plt.show()"
   ]
  },
  {
   "cell_type": "markdown",
   "metadata": {},
   "source": [
    "so the best k is `3` mesure by accuracy."
   ]
  },
  {
   "cell_type": "markdown",
   "metadata": {},
   "source": [
    "# 4\n",
    "10 pts. 0.5 hr. Normalize data option. Add an option to “Naive Bayes and KNN Iris and Cancer.ipynb” to ask the user whether to normalize the dataset by converting each feature into a Z-distribution by making mean = 0, and standard deviation = 1. For this problem, compare the accuracy results for the breast cancer dataset on the sklearn's KNN classifier using normalized vs. unnormalized data."
   ]
  },
  {
   "cell_type": "markdown",
   "metadata": {},
   "source": [
    "## Copy the code from the previous quiz and modify it to add the option to normalize the data."
   ]
  },
  {
   "cell_type": "code",
   "execution_count": null,
   "metadata": {},
   "outputs": [],
   "source": []
  },
  {
   "cell_type": "code",
   "execution_count": 35,
   "metadata": {},
   "outputs": [],
   "source": [
    "from typing import Literal, List, Set\n",
    "\n",
    "possible_datasets: Set[Literal['iris', 'cancer', 'digit']] = {'iris', 'cancer', 'digit'}\n",
    "dataset_type : Literal['iris', 'cancer', 'digit'] = 'none'\n",
    "while dataset_type not in possible_datasets: #problem 3 add 'digits'\n",
    "  dataset_type = input('Enter iris for the Iris dataset and cancer for the Breast Cancer dataset ')\n",
    "  if dataset_type not in possible_datasets:\n",
    "    print(\"Invalid response: '%s'. Please try again.\" % dataset_type)"
   ]
  },
  {
   "cell_type": "code",
   "execution_count": 36,
   "metadata": {},
   "outputs": [],
   "source": [
    "from sklearn.datasets import load_iris, load_breast_cancer, load_digits\n",
    "if dataset_type == \"iris\":\n",
    "  the_data = load_iris() #get the data from sklearn\n",
    "elif dataset_type == 'digit':\n",
    "  the_data = load_digits()\n",
    "else:\n",
    "  the_data = load_breast_cancer() #get the data from sklearn"
   ]
  },
  {
   "cell_type": "markdown",
   "metadata": {},
   "source": [
    "Add normalize option"
   ]
  },
  {
   "cell_type": "code",
   "execution_count": 37,
   "metadata": {},
   "outputs": [],
   "source": [
    "while True:\n",
    "  is_norm = input('Do you want to normalize the data? (yes/no) ')\n",
    "  if is_norm == 'yes':\n",
    "    # norm as mean = 0 and standard deviation = 1\n",
    "    from sklearn.preprocessing import StandardScaler\n",
    "    scaler = StandardScaler(with_mean=True, with_std=True)\n",
    "    scaler.fit(all_features)\n",
    "    break\n",
    "  elif is_norm == 'no':\n",
    "    break\n",
    "  else:\n",
    "    print(\"Invalid response: '%s'. Please try again.\" % is_norm)"
   ]
  },
  {
   "cell_type": "code",
   "execution_count": 38,
   "metadata": {},
   "outputs": [],
   "source": [
    "label_names = the_data['target_names']\n",
    "feature_names = the_data['feature_names']\n",
    "all_labels = the_data['target'] #class label\n",
    "all_features = the_data['data'] #dictionaries in python"
   ]
  },
  {
   "cell_type": "code",
   "execution_count": 39,
   "metadata": {},
   "outputs": [
    {
     "name": "stdout",
     "output_type": "stream",
     "text": [
      "\n",
      "Training features: \n",
      " [[1.005e+01 1.753e+01 6.441e+01 ... 6.499e-02 2.894e-01 7.664e-02]\n",
      " [1.080e+01 2.198e+01 6.879e+01 ... 7.485e-02 2.965e-01 7.662e-02]\n",
      " [1.614e+01 1.486e+01 1.043e+02 ... 1.129e-01 2.778e-01 7.012e-02]\n",
      " ...\n",
      " [9.436e+00 1.832e+01 5.982e+01 ... 5.052e-02 2.454e-01 8.136e-02]\n",
      " [9.720e+00 1.822e+01 6.073e+01 ... 0.000e+00 1.909e-01 6.559e-02]\n",
      " [1.151e+01 2.393e+01 7.452e+01 ... 9.653e-02 2.112e-01 8.732e-02]]\n",
      "\n",
      "Training Labels: \n",
      " [1 1 1 1 1 1 1 1 0 1 0 1 1 1 1 1 0 1 1 1 1 1 1 0 0 1 1 1 0 1 1 0 1 0 1 1 1\n",
      " 1 1 1 1 0 1 0 1 0 0 1 1 0 1 0 0 0 1 1 1 1 1 1 0 1 1 1 1 0 0 1 1 0 1 1 1 1\n",
      " 0 1 1 0 0 1 1 0 0 1 1 0 1 1 0 0 0 1 1 1 0 1 1 1 1 1 0 1 0 1 0 1 0 1 0 1 1\n",
      " 1 1 0 1 0 1 1 1 0 1 1 1 0 1 1 0 0 1 0 1 0 1 0 0 0 0 1 0 1 0 1 0 1 0 1 1 0\n",
      " 1 1 1 1 1 1 1 1 1 1 1 1 1 0 1 1 1 0 1 1 1 1 1 1 0 1 0 1 1 0 1 0 0 1 0 0 1\n",
      " 1 0 1 1 1 0 1 1 1 1 1 0 0 1 1 1 1 0 0 1 1 1 1 0 1 1 0 1 1 0 1 0 1 1 1 1 0\n",
      " 0 0 0 1 0 1 0 0 1 1 1 1 1 0 1 1 0 1 1 0 0 1 1 1 0 0 1 1 0 1 1 1 0 1 0 1 0\n",
      " 0 0 0 1 1 1 1 0 0 1 1 1 1 1 0 1 1 0 1 1 0 0 0 0 1 1 0 1 1 1 0 0 1 1 1 1 1\n",
      " 0 0 0 1 0 0 1 1 1 1 1 1 0 1 1 1 1 1 1 0 0 1 0 1 0 0 1 1 1 1 1 0 0 0 1 1 0\n",
      " 0 1 1 0 1 0 0 1 0 1 1 1 1 1 1 1 0 0 1 1 1 0 1 1 1 1 0 1 0 0 0 1 0 1 0 1 0\n",
      " 0 1 1 1 1 1 1 1 1 0 0 0 0 0 1 1 1 1 1 1 1 0 1 0 1 1 1 1 1 0 0 0 1 0 1 1 0\n",
      " 0 0 0 1 0 0 0 1 0 1 0 1 1 0 0 1 0 1 1 1 1 0 1 1 0 1 1 1 0 0 1 1 1 0 1 1 0\n",
      " 1 1 1 1 1 0 0 0 1 1 1]\n",
      "\n",
      "Testing Labels: \n",
      " [0 1 1 1 1 1 1 1 1 1 1 1 1 1 1 0 1 0 0 0 0 0 1 1 0 1 1 0 1 0 1 0 1 0 1 0 1\n",
      " 0 1 0 0 1 0 1 1 0 1 1 1 0 0 0 0 1 1 1 1 1 1 0 0 0 1 1 0 1 0 0 0 1 1 0 1 0\n",
      " 0 1 1 1 1 1 0 0 0 1 0 1 1 1 0 0 1 0 1 0 1 1 0 1 1 1 1 1 1 1 0 1 0 1 0 0 1\n",
      " 0 0 1]\n"
     ]
    }
   ],
   "source": [
    "from sklearn.model_selection import train_test_split\n",
    "# Spliting our dataset into 2 parts for training and testing\n",
    "training_features, testing_features, training_labels, testing_labels = train_test_split(all_features,all_labels,test_size=0.2,random_state=0)\n",
    "print(\"\\nTraining features: \\n\", training_features)\n",
    "print(\"\\nTraining Labels: \\n\", training_labels)\n",
    "print(\"\\nTesting Labels: \\n\", testing_labels)"
   ]
  },
  {
   "cell_type": "code",
   "execution_count": 40,
   "metadata": {},
   "outputs": [
    {
     "name": "stdout",
     "output_type": "stream",
     "text": [
      "Prediction Accuracy for k =  2 : 89.47%\n",
      "Prediction Accuracy for k =  3 : 91.23%\n",
      "Prediction Accuracy for k =  4 : 92.11%\n",
      "Prediction Accuracy for k =  5 : 93.86%\n",
      "Prediction Accuracy for k =  6 : 93.86%\n",
      "Prediction Accuracy for k =  7 : 94.74%\n",
      "Prediction Accuracy for k =  8 : 94.74%\n",
      "Prediction Accuracy for k =  9 : 96.49%\n",
      "Prediction Accuracy for k = 10 : 94.74%\n",
      "Prediction Accuracy for k = 11 : 96.49%\n",
      "Prediction Accuracy for k = 12 : 96.49%\n",
      "Prediction Accuracy for k = 13 : 96.49%\n",
      "Prediction Accuracy for k = 14 : 96.49%\n",
      "Prediction Accuracy for k = 15 : 96.49%\n",
      "Prediction Accuracy for k = 16 : 96.49%\n",
      "Prediction Accuracy for k = 17 : 96.49%\n",
      "Prediction Accuracy for k = 18 : 96.49%\n",
      "Prediction Accuracy for k = 19 : 96.49%\n",
      " K =  [2, 3, 4, 5, 6, 7, 8, 9, 10, 11, 12, 13, 14, 15, 16, 17, 18, 19] \n",
      " Errors =  [10.526315789473685, 8.771929824561411, 7.89473684210526, 6.1403508771929864, 6.1403508771929864, 5.26315789473685, 5.26315789473685, 3.5087719298245617, 5.26315789473685, 3.5087719298245617, 3.5087719298245617, 3.5087719298245617, 3.5087719298245617, 3.5087719298245617, 3.5087719298245617, 3.5087719298245617, 3.5087719298245617, 3.5087719298245617]\n"
     ]
    }
   ],
   "source": [
    "from sklearn.neighbors import KNeighborsClassifier\n",
    "neighbor_size = []\n",
    "errors_list = []\n",
    "for k in range (2, 20):\n",
    "  classifier = KNeighborsClassifier(n_neighbors = k)\n",
    "  model = classifier.fit(training_features,training_labels)  # or can also use:   predicted_labels = classifier.fit(train_features,train_labels)\n",
    "  predicted_labels = model.predict(testing_features) #use the model obtained in previous step to predict labels for testing features\n",
    "  accuracy_percent = 100*accuracy_score(testing_labels,predicted_labels)\n",
    "  # Calculating the % Accuracy of the prediction.\n",
    "  print(\"Prediction Accuracy for k = %2d : %5.2f%%\" % (k, accuracy_percent)) #%% escapes the formatting % to print '%'\n",
    "  neighbor_size.append(k)\n",
    "  errors_list.append(100-accuracy_percent)\n",
    "\n",
    "print (\" K = \", neighbor_size, \"\\n\", \"Errors = \", errors_list)"
   ]
  },
  {
   "cell_type": "code",
   "execution_count": 41,
   "metadata": {},
   "outputs": [
    {
     "data": {
      "image/png": "[encoded data removed]",
      "text/plain": [
       "<Figure size 1000x600 with 1 Axes>"
      ]
     },
     "metadata": {},
     "output_type": "display_data"
    }
   ],
   "source": [
    "import matplotlib.pyplot as plt\n",
    "plt.figure(figsize = (10, 6 ))\n",
    "plt.plot(neighbor_size, errors_list) #x list and y list\n",
    "plt.xlabel('Number of neighbors')\n",
    "plt.ylabel('Misclassification Error Percent')\n",
    "plt.title('K-Nearest Neighbors(normalized)')\n",
    "plt.ylim((0,10))\n",
    "plt.grid(True)\n",
    "plt.show()"
   ]
  },
  {
   "cell_type": "markdown",
   "metadata": {},
   "source": [
    "Vs unnormalized data"
   ]
  },
  {
   "cell_type": "code",
   "execution_count": 42,
   "metadata": {},
   "outputs": [],
   "source": [
    "from typing import Literal, List, Set\n",
    "\n",
    "possible_datasets: Set[Literal['iris', 'cancer', 'digit']] = {'iris', 'cancer', 'digit'}\n",
    "dataset_type : Literal['iris', 'cancer', 'digit'] = 'none'\n",
    "while dataset_type not in possible_datasets: #problem 3 add 'digits'\n",
    "  dataset_type = input('Enter iris for the Iris dataset and cancer for the Breast Cancer dataset ')\n",
    "  if dataset_type not in possible_datasets:\n",
    "    print(\"Invalid response: '%s'. Please try again.\" % dataset_type)"
   ]
  },
  {
   "cell_type": "code",
   "execution_count": 43,
   "metadata": {},
   "outputs": [],
   "source": [
    "from sklearn.datasets import load_iris, load_breast_cancer, load_digits\n",
    "if dataset_type == \"iris\":\n",
    "  the_data = load_iris() #get the data from sklearn\n",
    "elif dataset_type == 'digit':\n",
    "  the_data = load_digits()\n",
    "else:\n",
    "  the_data = load_breast_cancer() #get the data from sklearn"
   ]
  },
  {
   "cell_type": "code",
   "execution_count": 44,
   "metadata": {},
   "outputs": [],
   "source": [
    "while True:\n",
    "  is_norm = input('Do you want to normalize the data? (yes/no) ')\n",
    "  if is_norm == 'yes':\n",
    "    mean = 0\n",
    "    std = 1\n",
    "    the_data = (the_data - mean) / std\n",
    "    break\n",
    "  elif is_norm == 'no':\n",
    "    break\n",
    "  else:\n",
    "    print(\"Invalid response: '%s'. Please try again.\" % is_norm)"
   ]
  },
  {
   "cell_type": "code",
   "execution_count": 45,
   "metadata": {},
   "outputs": [],
   "source": [
    "label_names = the_data['target_names']\n",
    "feature_names = the_data['feature_names']\n",
    "all_labels = the_data['target'] #class label\n",
    "all_features = the_data['data'] #dictionaries in python"
   ]
  },
  {
   "cell_type": "code",
   "execution_count": 46,
   "metadata": {},
   "outputs": [
    {
     "name": "stdout",
     "output_type": "stream",
     "text": [
      "\n",
      "Training features: \n",
      " [[1.005e+01 1.753e+01 6.441e+01 ... 6.499e-02 2.894e-01 7.664e-02]\n",
      " [1.080e+01 2.198e+01 6.879e+01 ... 7.485e-02 2.965e-01 7.662e-02]\n",
      " [1.614e+01 1.486e+01 1.043e+02 ... 1.129e-01 2.778e-01 7.012e-02]\n",
      " ...\n",
      " [9.436e+00 1.832e+01 5.982e+01 ... 5.052e-02 2.454e-01 8.136e-02]\n",
      " [9.720e+00 1.822e+01 6.073e+01 ... 0.000e+00 1.909e-01 6.559e-02]\n",
      " [1.151e+01 2.393e+01 7.452e+01 ... 9.653e-02 2.112e-01 8.732e-02]]\n",
      "\n",
      "Training Labels: \n",
      " [1 1 1 1 1 1 1 1 0 1 0 1 1 1 1 1 0 1 1 1 1 1 1 0 0 1 1 1 0 1 1 0 1 0 1 1 1\n",
      " 1 1 1 1 0 1 0 1 0 0 1 1 0 1 0 0 0 1 1 1 1 1 1 0 1 1 1 1 0 0 1 1 0 1 1 1 1\n",
      " 0 1 1 0 0 1 1 0 0 1 1 0 1 1 0 0 0 1 1 1 0 1 1 1 1 1 0 1 0 1 0 1 0 1 0 1 1\n",
      " 1 1 0 1 0 1 1 1 0 1 1 1 0 1 1 0 0 1 0 1 0 1 0 0 0 0 1 0 1 0 1 0 1 0 1 1 0\n",
      " 1 1 1 1 1 1 1 1 1 1 1 1 1 0 1 1 1 0 1 1 1 1 1 1 0 1 0 1 1 0 1 0 0 1 0 0 1\n",
      " 1 0 1 1 1 0 1 1 1 1 1 0 0 1 1 1 1 0 0 1 1 1 1 0 1 1 0 1 1 0 1 0 1 1 1 1 0\n",
      " 0 0 0 1 0 1 0 0 1 1 1 1 1 0 1 1 0 1 1 0 0 1 1 1 0 0 1 1 0 1 1 1 0 1 0 1 0\n",
      " 0 0 0 1 1 1 1 0 0 1 1 1 1 1 0 1 1 0 1 1 0 0 0 0 1 1 0 1 1 1 0 0 1 1 1 1 1\n",
      " 0 0 0 1 0 0 1 1 1 1 1 1 0 1 1 1 1 1 1 0 0 1 0 1 0 0 1 1 1 1 1 0 0 0 1 1 0\n",
      " 0 1 1 0 1 0 0 1 0 1 1 1 1 1 1 1 0 0 1 1 1 0 1 1 1 1 0 1 0 0 0 1 0 1 0 1 0\n",
      " 0 1 1 1 1 1 1 1 1 0 0 0 0 0 1 1 1 1 1 1 1 0 1 0 1 1 1 1 1 0 0 0 1 0 1 1 0\n",
      " 0 0 0 1 0 0 0 1 0 1 0 1 1 0 0 1 0 1 1 1 1 0 1 1 0 1 1 1 0 0 1 1 1 0 1 1 0\n",
      " 1 1 1 1 1 0 0 0 1 1 1]\n",
      "\n",
      "Testing Labels: \n",
      " [0 1 1 1 1 1 1 1 1 1 1 1 1 1 1 0 1 0 0 0 0 0 1 1 0 1 1 0 1 0 1 0 1 0 1 0 1\n",
      " 0 1 0 0 1 0 1 1 0 1 1 1 0 0 0 0 1 1 1 1 1 1 0 0 0 1 1 0 1 0 0 0 1 1 0 1 0\n",
      " 0 1 1 1 1 1 0 0 0 1 0 1 1 1 0 0 1 0 1 0 1 1 0 1 1 1 1 1 1 1 0 1 0 1 0 0 1\n",
      " 0 0 1]\n"
     ]
    }
   ],
   "source": [
    "from sklearn.model_selection import train_test_split\n",
    "# Spliting our dataset into 2 parts for training and testing\n",
    "training_features, testing_features, training_labels, testing_labels = train_test_split(all_features,all_labels,test_size=0.2,random_state=0)\n",
    "print(\"\\nTraining features: \\n\", training_features)\n",
    "print(\"\\nTraining Labels: \\n\", training_labels)\n",
    "print(\"\\nTesting Labels: \\n\", testing_labels)"
   ]
  },
  {
   "cell_type": "code",
   "execution_count": 47,
   "metadata": {},
   "outputs": [
    {
     "name": "stdout",
     "output_type": "stream",
     "text": [
      "Prediction Accuracy for k =  2 : 89.47%\n",
      "Prediction Accuracy for k =  3 : 91.23%\n",
      "Prediction Accuracy for k =  4 : 92.11%\n",
      "Prediction Accuracy for k =  5 : 93.86%\n",
      "Prediction Accuracy for k =  6 : 93.86%\n",
      "Prediction Accuracy for k =  7 : 94.74%\n",
      "Prediction Accuracy for k =  8 : 94.74%\n",
      "Prediction Accuracy for k =  9 : 96.49%\n",
      "Prediction Accuracy for k = 10 : 94.74%\n",
      "Prediction Accuracy for k = 11 : 96.49%\n",
      "Prediction Accuracy for k = 12 : 96.49%\n",
      "Prediction Accuracy for k = 13 : 96.49%\n",
      "Prediction Accuracy for k = 14 : 96.49%\n",
      "Prediction Accuracy for k = 15 : 96.49%\n",
      "Prediction Accuracy for k = 16 : 96.49%\n",
      "Prediction Accuracy for k = 17 : 96.49%\n",
      "Prediction Accuracy for k = 18 : 96.49%\n",
      "Prediction Accuracy for k = 19 : 96.49%\n",
      " K =  [2, 3, 4, 5, 6, 7, 8, 9, 10, 11, 12, 13, 14, 15, 16, 17, 18, 19] \n",
      " Errors =  [10.526315789473685, 8.771929824561411, 7.89473684210526, 6.1403508771929864, 6.1403508771929864, 5.26315789473685, 5.26315789473685, 3.5087719298245617, 5.26315789473685, 3.5087719298245617, 3.5087719298245617, 3.5087719298245617, 3.5087719298245617, 3.5087719298245617, 3.5087719298245617, 3.5087719298245617, 3.5087719298245617, 3.5087719298245617]\n"
     ]
    }
   ],
   "source": [
    "from sklearn.neighbors import KNeighborsClassifier\n",
    "neighbor_size = []\n",
    "errors_list = []\n",
    "for k in range (2, 20):\n",
    "  classifier = KNeighborsClassifier(n_neighbors = k)\n",
    "  model = classifier.fit(training_features,training_labels)  # or can also use:   predicted_labels = classifier.fit(train_features,train_labels)\n",
    "  predicted_labels = model.predict(testing_features) #use the model obtained in previous step to predict labels for testing features\n",
    "  accuracy_percent = 100*accuracy_score(testing_labels,predicted_labels)\n",
    "  # Calculating the % Accuracy of the prediction.\n",
    "  print(\"Prediction Accuracy for k = %2d : %5.2f%%\" % (k, accuracy_percent)) #%% escapes the formatting % to print '%'\n",
    "  neighbor_size.append(k)\n",
    "  errors_list.append(100-accuracy_percent)\n",
    "\n",
    "print (\" K = \", neighbor_size, \"\\n\", \"Errors = \", errors_list)"
   ]
  },
  {
   "cell_type": "code",
   "execution_count": 48,
   "metadata": {},
   "outputs": [
    {
     "data": {
      "image/png": "[encoded data removed]",
      "text/plain": [
       "<Figure size 1000x600 with 1 Axes>"
      ]
     },
     "metadata": {},
     "output_type": "display_data"
    }
   ],
   "source": [
    "import matplotlib.pyplot as plt\n",
    "plt.figure(figsize = (10, 6 ))\n",
    "plt.plot(neighbor_size, errors_list) #x list and y list\n",
    "plt.xlabel('Number of neighbors')\n",
    "plt.ylabel('Misclassification Error Percent')\n",
    "plt.title('K-Nearest Neighbors(normalized)')\n",
    "plt.ylim((0,10))\n",
    "plt.grid(True)\n",
    "plt.show()"
   ]
  },
  {
   "cell_type": "markdown",
   "metadata": {},
   "source": [
    "If this code is correct. It seem not different when normalize data. But in KNN scale of each feature is important. So it should be different."
   ]
  },
  {
   "cell_type": "code",
   "execution_count": null,
   "metadata": {},
   "outputs": [],
   "source": []
  }
 ],
 "metadata": {
  "kernelspec": {
   "display_name": "venv",
   "language": "python",
   "name": "python3"
  },
  "language_info": {
   "codemirror_mode": {
    "name": "ipython",
    "version": 3
   },
   "file_extension": ".py",
   "mimetype": "text/x-python",
   "name": "python",
   "nbconvert_exporter": "python",
   "pygments_lexer": "ipython3",
   "version": "3.10.10"
  }
 },
 "nbformat": 4,
 "nbformat_minor": 2
}
